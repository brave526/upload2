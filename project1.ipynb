{
 "cells": [
  {
   "cell_type": "markdown",
   "id": "be9ca8c6",
   "metadata": {},
   "source": [
    "##  주제 :  여행 상품 계약률을 높이기 위한 방안 도출\n",
    "\n"
   ]
  },
  {
   "cell_type": "markdown",
   "id": "1dea12ac",
   "metadata": {},
   "source": [
    "#### 1.  데이터 준비   \n",
    "1-1    데이터 컬럼 확인   \n",
    "1-2    데이터 전처리   \n",
    "\n",
    "#### 2.       고객 분석 및 비지니스 과제 도출  \n",
    "2-1    고객분석    \n",
    "2-2    비지니스 과제 도출    \n",
    "2-3    계약률이 높은 10~20대 고객 분석 및 신규 고객 확보 방안   \n",
    "2-4    계약률이 낮은 30대 후반 고객 분석 및 인사이트 제안   \n",
    "\n",
    "#### 3.   영업 데이터 분석 및 비지니스 과제 도출   \n",
    "3-1    영업 관련 데이터 분석    \n",
    "3-2    비지니스 과제 도출    \n",
    "3-3    영업 시 활용 가능한 수요 예측 모델 개발   \n",
    "\n"
   ]
  },
  {
   "cell_type": "markdown",
   "id": "b735302a",
   "metadata": {},
   "source": [
    "#### 1.  데이터 준비\n"
   ]
  },
  {
   "cell_type": "code",
   "execution_count": 55,
   "id": "0a5dc2b5",
   "metadata": {},
   "outputs": [
    {
     "data": {
      "image/png": "[encoded data removed]",
      "text/plain": [
       "<Figure size 432x288 with 1 Axes>"
      ]
     },
     "metadata": {
      "needs_background": "light"
     },
     "output_type": "display_data"
    }
   ],
   "source": [
    "# 한글 폰트 사용을 위해서 세팅\n",
    "from matplotlib import font_manager, rc\n",
    "import matplotlib.pyplot as plt\n",
    "\n",
    "%matplotlib inline\n",
    "font_path = \"/users/eunji/library/fonts/malgun.ttf\"\n",
    "font = font_manager.FontProperties(fname=font_path).get_name()\n",
    "rc('font', family=font)\n",
    " \n",
    "plt.scatter([0, 1, 2, 3, 4, 5], [0, 1, 2, 3, 4, 5])\n",
    "plt.title('산점도')\n",
    "plt.xlabel('변수1')\n",
    "plt.ylabel('변수2')\n",
    "plt.grid(True)\n",
    "plt.show()"
   ]
  },
  {
   "cell_type": "code",
   "execution_count": 56,
   "id": "d1c3a71d",
   "metadata": {},
   "outputs": [],
   "source": [
    "import seaborn as sns\n",
    "import matplotlib as mpl\n",
    "from scipy.stats import chi2_contingency\n",
    "import matplotlib.gridspec as gridspec"
   ]
  },
  {
   "cell_type": "code",
   "execution_count": 57,
   "id": "30cfc892",
   "metadata": {},
   "outputs": [],
   "source": [
    "import pandas as pd\n",
    "import numpy as np\n",
    "from pandas import Series\n",
    "import warnings                                                                     # 경고 메시지를 무시하고 숨기기 \n",
    "warnings.filterwarnings('ignore')                                                   # import warnings  # warnings.filterwarnings('ignore') \n",
    "import numpy as np\n",
    "import pandas as pd\n",
    "import seaborn as sns\n",
    "import matplotlib.pyplot as plt\n",
    "import seaborn as sns\n",
    "from sklearn.model_selection import train_test_split\n",
    "from sklearn.preprocessing import LabelEncoder, RobustScaler, StandardScaler\n",
    "from sklearn.metrics import accuracy_score   "
   ]
  },
  {
   "cell_type": "code",
   "execution_count": 58,
   "id": "13af74b7",
   "metadata": {},
   "outputs": [],
   "source": [
    "train = pd.read_csv('/Users/EUNJI/Desktop/dacon/여행상품신청여부예측/tour_package.csv')\n"
   ]
  },
  {
   "cell_type": "markdown",
   "id": "d50efb5d",
   "metadata": {},
   "source": [
    "#### 1-1 데이터 컬럼 확인"
   ]
  },
  {
   "cell_type": "code",
   "execution_count": 59,
   "id": "54cd59f0",
   "metadata": {},
   "outputs": [
    {
     "name": "stdout",
     "output_type": "stream",
     "text": [
      "<class 'pandas.core.frame.DataFrame'>\n",
      "RangeIndex: 4888 entries, 0 to 4887\n",
      "Data columns (total 20 columns):\n",
      " #   Column                    Non-Null Count  Dtype  \n",
      "---  ------                    --------------  -----  \n",
      " 0   CustomerID                4888 non-null   int64  \n",
      " 1   ProdTaken                 4888 non-null   int64  \n",
      " 2   Age                       4662 non-null   float64\n",
      " 3   TypeofContact             4863 non-null   object \n",
      " 4   CityTier                  4888 non-null   int64  \n",
      " 5   DurationOfPitch           4637 non-null   float64\n",
      " 6   Occupation                4888 non-null   object \n",
      " 7   Gender                    4888 non-null   object \n",
      " 8   NumberOfPersonVisiting    4888 non-null   int64  \n",
      " 9   NumberOfFollowups         4843 non-null   float64\n",
      " 10  ProductPitched            4888 non-null   object \n",
      " 11  PreferredPropertyStar     4862 non-null   float64\n",
      " 12  MaritalStatus             4888 non-null   object \n",
      " 13  NumberOfTrips             4748 non-null   float64\n",
      " 14  Passport                  4888 non-null   int64  \n",
      " 15  PitchSatisfactionScore    4888 non-null   int64  \n",
      " 16  OwnCar                    4888 non-null   int64  \n",
      " 17  NumberOfChildrenVisiting  4822 non-null   float64\n",
      " 18  Designation               4888 non-null   object \n",
      " 19  MonthlyIncome             4655 non-null   float64\n",
      "dtypes: float64(7), int64(7), object(6)\n",
      "memory usage: 763.9+ KB\n"
     ]
    }
   ],
   "source": [
    "train.info()"
   ]
  },
  {
   "cell_type": "code",
   "execution_count": null,
   "id": "01096d3e",
   "metadata": {},
   "outputs": [],
   "source": [
    "# 데이터는 여행업체의 고객 정보 및 영업 관련 데이터\n",
    "# 고객의 신청 여부 컬럼은 있으나, 최종 선택 상품에 대한 데이터가 없기 때문에, \n",
    "# 겨약자는 영업사원에게 추천 받은 상품으로 최종 계약했다고 가정하고 분석을 진행했습니다. \n",
    "\n",
    "\n",
    "\n",
    "# 개인 정보 \n",
    "CustomerID : 고객 아이디\n",
    "Age : 나이\n",
    "Gender : 성별\n",
    "Occupation : 직업\n",
    "Designation : (직업의) 직급\n",
    "MonthlyIncome : 월 급여                          \n",
    "OwnCar : 자동차 보유 여부 (0: 없음, 1: 있음)\n",
    "CityTier : 주거 중인 도시의 등급. (인구, 시설, 생활 수준 기준) (1등급 > 2등급 > 3등급)\n",
    "MaritalStatus : 결혼 여부\n",
    "    \n",
    "    \n",
    "# 여행 관련 개인 정보 \n",
    "Passport : 여권 보유 여부 (0: 없음, 1: 있음)\n",
    "NumberOfTrips : 평균 연간 여행 횟수 \n",
    "NumberOfChildrenVisiting : 고객과 함께 여행을 계획 중인 5세 미만의 어린이 수     \n",
    "NumberOfPersonVisiting : 고객과 함께 여행을 계획 중인 총 인원\n",
    "PreferredPropertyStar : 선호 호텔 숙박업소 등급  (1~5star)\n",
    "\n",
    "    \n",
    "# 여행 마케팅, 고객 영업 관련 정보  \n",
    "TypeofContact : 고객의 제품 인지 방법 (회사의 홍보 or 스스로 검색)\n",
    "ProductPitched : 영업 사원이 제시한 상품  (여행 상품 : Basic, Standard, Deluxe, Super, Deluxe, King)\n",
    "PitchSatisfactionScore : 영업 사원의 프레젠테이션 만족도\n",
    "DurationOfPitch : 영업 사원이 고객에게 제공하는 프레젠테이션 기간\n",
    "NumberOfFollowups : 영업 사원의 프레젠테이션 후 이루어진 후속 조치 수\n",
    "\n",
    "# y 목표값   \n",
    "ProdTaken : 여행 패키지 신청 여부 (0: 신청 안 함, 1: 신청함)\n",
    "    "
   ]
  },
  {
   "cell_type": "markdown",
   "id": "0dfa5810",
   "metadata": {},
   "source": [
    "####  * 기본 가정 : 계약 고객은 영업사원에게 추천 받은 상품(Product Pitched)으로 최종 계약했다고 가정\n",
    "          (주어진 데이터에 고객의 최종 계약 상품에 대한 데이터가 없기 때문에 \n",
    "          심도있는 분석을 위해 위와 같이 가정하고 분석을 진행)\n",
    "#### "
   ]
  },
  {
   "cell_type": "code",
   "execution_count": 61,
   "id": "f386bab4",
   "metadata": {},
   "outputs": [],
   "source": [
    "# 불필요한 CustomerID 칼럼 제거\n",
    "train = train.drop(['CustomerID'],axis=1)\n",
    "\n",
    "# 정확한 분석을 위해 데이터가 누락된 행은 drop\n",
    "train = train.dropna()"
   ]
  },
  {
   "cell_type": "code",
   "execution_count": 62,
   "id": "8ac9feb4",
   "metadata": {},
   "outputs": [
    {
     "data": {
      "text/html": [
       "<div>\n",
       "<style scoped>\n",
       "    .dataframe tbody tr th:only-of-type {\n",
       "        vertical-align: middle;\n",
       "    }\n",
       "\n",
       "    .dataframe tbody tr th {\n",
       "        vertical-align: top;\n",
       "    }\n",
       "\n",
       "    .dataframe thead th {\n",
       "        text-align: right;\n",
       "    }\n",
       "</style>\n",
       "<table border=\"1\" class=\"dataframe\">\n",
       "  <thead>\n",
       "    <tr style=\"text-align: right;\">\n",
       "      <th></th>\n",
       "      <th>피처</th>\n",
       "      <th>데이터 타입</th>\n",
       "      <th>결측값 개수</th>\n",
       "      <th>고윳값 개수</th>\n",
       "      <th>첫번째 값</th>\n",
       "      <th>두번째 값</th>\n",
       "      <th>세번째 값</th>\n",
       "    </tr>\n",
       "  </thead>\n",
       "  <tbody>\n",
       "    <tr>\n",
       "      <th>0</th>\n",
       "      <td>ProdTaken</td>\n",
       "      <td>int64</td>\n",
       "      <td>0</td>\n",
       "      <td>2</td>\n",
       "      <td>1</td>\n",
       "      <td>0</td>\n",
       "      <td>1</td>\n",
       "    </tr>\n",
       "    <tr>\n",
       "      <th>1</th>\n",
       "      <td>OwnCar</td>\n",
       "      <td>int64</td>\n",
       "      <td>0</td>\n",
       "      <td>2</td>\n",
       "      <td>1</td>\n",
       "      <td>1</td>\n",
       "      <td>0</td>\n",
       "    </tr>\n",
       "    <tr>\n",
       "      <th>2</th>\n",
       "      <td>CityTier</td>\n",
       "      <td>int64</td>\n",
       "      <td>0</td>\n",
       "      <td>3</td>\n",
       "      <td>3</td>\n",
       "      <td>1</td>\n",
       "      <td>1</td>\n",
       "    </tr>\n",
       "    <tr>\n",
       "      <th>3</th>\n",
       "      <td>PitchSatisfactionScore</td>\n",
       "      <td>int64</td>\n",
       "      <td>0</td>\n",
       "      <td>5</td>\n",
       "      <td>2</td>\n",
       "      <td>3</td>\n",
       "      <td>3</td>\n",
       "    </tr>\n",
       "    <tr>\n",
       "      <th>4</th>\n",
       "      <td>Passport</td>\n",
       "      <td>int64</td>\n",
       "      <td>0</td>\n",
       "      <td>2</td>\n",
       "      <td>1</td>\n",
       "      <td>0</td>\n",
       "      <td>1</td>\n",
       "    </tr>\n",
       "    <tr>\n",
       "      <th>5</th>\n",
       "      <td>NumberOfPersonVisiting</td>\n",
       "      <td>int64</td>\n",
       "      <td>0</td>\n",
       "      <td>5</td>\n",
       "      <td>3</td>\n",
       "      <td>3</td>\n",
       "      <td>3</td>\n",
       "    </tr>\n",
       "    <tr>\n",
       "      <th>6</th>\n",
       "      <td>NumberOfChildrenVisiting</td>\n",
       "      <td>float64</td>\n",
       "      <td>0</td>\n",
       "      <td>4</td>\n",
       "      <td>0.0</td>\n",
       "      <td>2.0</td>\n",
       "      <td>0.0</td>\n",
       "    </tr>\n",
       "    <tr>\n",
       "      <th>7</th>\n",
       "      <td>NumberOfTrips</td>\n",
       "      <td>float64</td>\n",
       "      <td>0</td>\n",
       "      <td>12</td>\n",
       "      <td>1.0</td>\n",
       "      <td>2.0</td>\n",
       "      <td>7.0</td>\n",
       "    </tr>\n",
       "    <tr>\n",
       "      <th>8</th>\n",
       "      <td>PreferredPropertyStar</td>\n",
       "      <td>float64</td>\n",
       "      <td>0</td>\n",
       "      <td>3</td>\n",
       "      <td>3.0</td>\n",
       "      <td>4.0</td>\n",
       "      <td>3.0</td>\n",
       "    </tr>\n",
       "    <tr>\n",
       "      <th>9</th>\n",
       "      <td>MonthlyIncome</td>\n",
       "      <td>float64</td>\n",
       "      <td>0</td>\n",
       "      <td>2182</td>\n",
       "      <td>20993.0</td>\n",
       "      <td>20130.0</td>\n",
       "      <td>17090.0</td>\n",
       "    </tr>\n",
       "    <tr>\n",
       "      <th>10</th>\n",
       "      <td>NumberOfFollowups</td>\n",
       "      <td>float64</td>\n",
       "      <td>0</td>\n",
       "      <td>6</td>\n",
       "      <td>3.0</td>\n",
       "      <td>4.0</td>\n",
       "      <td>4.0</td>\n",
       "    </tr>\n",
       "    <tr>\n",
       "      <th>11</th>\n",
       "      <td>DurationOfPitch</td>\n",
       "      <td>float64</td>\n",
       "      <td>0</td>\n",
       "      <td>33</td>\n",
       "      <td>6.0</td>\n",
       "      <td>14.0</td>\n",
       "      <td>8.0</td>\n",
       "    </tr>\n",
       "    <tr>\n",
       "      <th>12</th>\n",
       "      <td>Age</td>\n",
       "      <td>float64</td>\n",
       "      <td>0</td>\n",
       "      <td>44</td>\n",
       "      <td>41.0</td>\n",
       "      <td>49.0</td>\n",
       "      <td>37.0</td>\n",
       "    </tr>\n",
       "    <tr>\n",
       "      <th>13</th>\n",
       "      <td>MaritalStatus</td>\n",
       "      <td>object</td>\n",
       "      <td>0</td>\n",
       "      <td>4</td>\n",
       "      <td>Single</td>\n",
       "      <td>Divorced</td>\n",
       "      <td>Single</td>\n",
       "    </tr>\n",
       "    <tr>\n",
       "      <th>14</th>\n",
       "      <td>Gender</td>\n",
       "      <td>object</td>\n",
       "      <td>0</td>\n",
       "      <td>3</td>\n",
       "      <td>Female</td>\n",
       "      <td>Male</td>\n",
       "      <td>Male</td>\n",
       "    </tr>\n",
       "    <tr>\n",
       "      <th>15</th>\n",
       "      <td>Occupation</td>\n",
       "      <td>object</td>\n",
       "      <td>0</td>\n",
       "      <td>4</td>\n",
       "      <td>Salaried</td>\n",
       "      <td>Salaried</td>\n",
       "      <td>Free Lancer</td>\n",
       "    </tr>\n",
       "    <tr>\n",
       "      <th>16</th>\n",
       "      <td>TypeofContact</td>\n",
       "      <td>object</td>\n",
       "      <td>0</td>\n",
       "      <td>2</td>\n",
       "      <td>Self Enquiry</td>\n",
       "      <td>Company Invited</td>\n",
       "      <td>Self Enquiry</td>\n",
       "    </tr>\n",
       "    <tr>\n",
       "      <th>17</th>\n",
       "      <td>Designation</td>\n",
       "      <td>object</td>\n",
       "      <td>0</td>\n",
       "      <td>5</td>\n",
       "      <td>Manager</td>\n",
       "      <td>Manager</td>\n",
       "      <td>Executive</td>\n",
       "    </tr>\n",
       "    <tr>\n",
       "      <th>18</th>\n",
       "      <td>ProductPitched</td>\n",
       "      <td>object</td>\n",
       "      <td>0</td>\n",
       "      <td>5</td>\n",
       "      <td>Deluxe</td>\n",
       "      <td>Deluxe</td>\n",
       "      <td>Basic</td>\n",
       "    </tr>\n",
       "  </tbody>\n",
       "</table>\n",
       "</div>"
      ],
      "text/plain": [
       "                          피처   데이터 타입  결측값 개수  고윳값 개수         첫번째 값  \\\n",
       "0                  ProdTaken    int64       0       2             1   \n",
       "1                     OwnCar    int64       0       2             1   \n",
       "2                   CityTier    int64       0       3             3   \n",
       "3     PitchSatisfactionScore    int64       0       5             2   \n",
       "4                   Passport    int64       0       2             1   \n",
       "5     NumberOfPersonVisiting    int64       0       5             3   \n",
       "6   NumberOfChildrenVisiting  float64       0       4           0.0   \n",
       "7              NumberOfTrips  float64       0      12           1.0   \n",
       "8      PreferredPropertyStar  float64       0       3           3.0   \n",
       "9              MonthlyIncome  float64       0    2182       20993.0   \n",
       "10         NumberOfFollowups  float64       0       6           3.0   \n",
       "11           DurationOfPitch  float64       0      33           6.0   \n",
       "12                       Age  float64       0      44          41.0   \n",
       "13             MaritalStatus   object       0       4        Single   \n",
       "14                    Gender   object       0       3        Female   \n",
       "15                Occupation   object       0       4      Salaried   \n",
       "16             TypeofContact   object       0       2  Self Enquiry   \n",
       "17               Designation   object       0       5       Manager   \n",
       "18            ProductPitched   object       0       5        Deluxe   \n",
       "\n",
       "              두번째 값         세번째 값  \n",
       "0                 0             1  \n",
       "1                 1             0  \n",
       "2                 1             1  \n",
       "3                 3             3  \n",
       "4                 0             1  \n",
       "5                 3             3  \n",
       "6               2.0           0.0  \n",
       "7               2.0           7.0  \n",
       "8               4.0           3.0  \n",
       "9           20130.0       17090.0  \n",
       "10              4.0           4.0  \n",
       "11             14.0           8.0  \n",
       "12             49.0          37.0  \n",
       "13         Divorced        Single  \n",
       "14             Male          Male  \n",
       "15         Salaried   Free Lancer  \n",
       "16  Company Invited  Self Enquiry  \n",
       "17          Manager     Executive  \n",
       "18           Deluxe         Basic  "
      ]
     },
     "execution_count": 62,
     "metadata": {},
     "output_type": "execute_result"
    }
   ],
   "source": [
    "# train data 피처요약표 함수 : 피처요약표로 데이터들의 대략적인 정보를 얻기 \n",
    "\n",
    "def resumetable(df):\n",
    "    summary = pd.DataFrame(df.dtypes, columns=['데이터 타입'])\n",
    "    summary = summary.reset_index()\n",
    "    summary = summary.rename(columns={'index':'피처'})\n",
    "    summary['결측값 개수'] = df.isnull().sum().values\n",
    "    summary['고윳값 개수'] = df.nunique().values\n",
    "    summary['첫번째 값'] = df.loc[0].values\n",
    "    summary['두번째 값'] = df.loc[1].values\n",
    "    summary['세번째 값'] = df.loc[2].values\n",
    "    summary = summary.sort_values('데이터 타입').reset_index(drop=True)\n",
    "\n",
    "    return summary\n",
    "\n",
    "resumetable(train)"
   ]
  },
  {
   "cell_type": "markdown",
   "id": "4608d74d",
   "metadata": {},
   "source": []
  },
  {
   "cell_type": "markdown",
   "id": "d492ca47",
   "metadata": {},
   "source": [
    "#### 1-2 데이터 전처리"
   ]
  },
  {
   "cell_type": "code",
   "execution_count": 63,
   "id": "53ee224c",
   "metadata": {},
   "outputs": [],
   "source": [
    "# Product Pitched (영업사원이 고객에게 추천한 상품) -> 등급별로 라벨링 \n",
    "\n",
    "# 'Basic':1, 'Standard':2, 'Deluxe':3, 'Super Deluxe':4, 'King':5\n",
    "\n",
    "dic = {'Basic':1, 'Standard':2, 'Deluxe':3, 'Super Deluxe':4, 'King':5 }\n",
    "train['ProductPitched_le'] = train['ProductPitched'].replace(dic)"
   ]
  },
  {
   "cell_type": "code",
   "execution_count": 64,
   "id": "5f615bcd",
   "metadata": {
    "scrolled": true
   },
   "outputs": [
    {
     "name": "stdout",
     "output_type": "stream",
     "text": [
      "AxesSubplot(0.125,0.125;0.775x0.755)\n",
      "이상치 1개 삭제 완료\n"
     ]
    },
    {
     "data": {
      "image/png": "[encoded data removed]",
      "text/plain": [
       "<Figure size 432x288 with 1 Axes>"
      ]
     },
     "metadata": {
      "needs_background": "light"
     },
     "output_type": "display_data"
    }
   ],
   "source": [
    "# DurationOfPitch (영업사원이 고객에게 추천한 기간) -> max값은 이상치로 분류해 삭제 \n",
    "\n",
    "\n",
    "print(sns.boxplot(train['DurationOfPitch'])) \n",
    "train = train[train['DurationOfPitch'] != train['DurationOfPitch'].max()]\n",
    "print('이상치 1개 삭제 완료')"
   ]
  },
  {
   "cell_type": "code",
   "execution_count": 65,
   "id": "c3be7c3c",
   "metadata": {},
   "outputs": [],
   "source": [
    "# 'DurationOfPitch (영업사원이 고객에게 추천한 기간)  ->  단위 변경 (일 => 1주일 단위로)\n",
    "\n",
    "# 1주 미만          -> 0\n",
    "# 1주 이상 2주 미만   -> 1 \n",
    "# 2주 이상 3주 미만   -> 2\n",
    "# 3주 이상 4주 미만   -> 3\n",
    "# 4주 이상 5주 미만   -> 4\n",
    "# 5주 이상          -> 5\n",
    "\n",
    "\n",
    "train['DurationOfPitch(주별)'] = train['DurationOfPitch']//7\n",
    "train['DurationOfPitch(주별)'].unique() \n",
    "\n",
    "# unique value = [ 0.,  2.,  1.,  4.,  3.,  5., 18.]\n",
    "\n",
    "\n",
    "li=[]\n",
    "for i in train['DurationOfPitch(주별)'] : \n",
    "    if i  <= 5:\n",
    "        li.append(i)\n",
    "    else : \n",
    "        li.append(5)\n",
    "train['DurationOfPitch(주별)'] = li"
   ]
  },
  {
   "cell_type": "code",
   "execution_count": 66,
   "id": "47fe0a6f",
   "metadata": {},
   "outputs": [
    {
     "data": {
      "text/plain": [
       "Index(['ProdTaken', 'Age', 'TypeofContact', 'CityTier', 'DurationOfPitch',\n",
       "       'Occupation', 'Gender', 'NumberOfPersonVisiting', 'NumberOfFollowups',\n",
       "       'ProductPitched', 'PreferredPropertyStar', 'MaritalStatus',\n",
       "       'NumberOfTrips', 'Passport', 'PitchSatisfactionScore', 'OwnCar',\n",
       "       'NumberOfChildrenVisiting', 'Designation', 'MonthlyIncome',\n",
       "       'ProductPitched_le', 'DurationOfPitch(주별)'],\n",
       "      dtype='object')"
      ]
     },
     "execution_count": 66,
     "metadata": {},
     "output_type": "execute_result"
    }
   ],
   "source": [
    "train.columns"
   ]
  },
  {
   "cell_type": "code",
   "execution_count": 67,
   "id": "1e92d96e",
   "metadata": {},
   "outputs": [
    {
     "name": "stdout",
     "output_type": "stream",
     "text": [
      "AxesSubplot(0.125,0.125;0.775x0.755)\n"
     ]
    },
    {
     "data": {
      "image/png": "[encoded data removed]",
      "text/plain": [
       "<Figure size 432x288 with 1 Axes>"
      ]
     },
     "metadata": {
      "needs_background": "light"
     },
     "output_type": "display_data"
    }
   ],
   "source": [
    "# MonthlyIncome 고객의 월 소득 -> 이상치 삭제 ($10000이하, $40000이상)\n",
    "\n",
    "print(sns.boxplot(train['MonthlyIncome']))\n",
    "train = train[(train['MonthlyIncome']<=40000)|(train['MonthlyIncome']>=10000)]"
   ]
  },
  {
   "cell_type": "code",
   "execution_count": 68,
   "id": "311940cc",
   "metadata": {},
   "outputs": [],
   "source": [
    "# MonthlyIncome 고객의 월 소득 -> binning\n",
    "\n",
    "# 20000미만            -> 0\n",
    "# 20000이상 22500미만   -> 1\n",
    "# 22500이상 25000미만   -> 2\n",
    "# 25000이상 27500미만   -> 3\n",
    "# 27500이상 29000미만   -> 4\n",
    "# 290000이상           -> 5\n",
    "\n",
    "train = train.dropna() \n",
    "\n",
    "li=[]\n",
    "a=0\n",
    "for i in train['MonthlyIncome']:\n",
    "    if  i < 20000 :\n",
    "        a=0\n",
    "        li.append(a)\n",
    "    elif i < 22500: \n",
    "        a=1\n",
    "        li.append(a)\n",
    "    elif i< 25000:\n",
    "        a=2\n",
    "        li.append(a)\n",
    "    elif i< 27500:\n",
    "        a=3\n",
    "        li.append(a)\n",
    "    elif i< 29000:\n",
    "        a=4\n",
    "        li.append(a)\n",
    "    else :\n",
    "        a=5\n",
    "        li.append(a)\n",
    "        \n",
    "train['MonthlyIncome_le'] = li"
   ]
  },
  {
   "cell_type": "code",
   "execution_count": 69,
   "id": "972587c0",
   "metadata": {},
   "outputs": [
    {
     "name": "stdout",
     "output_type": "stream",
     "text": [
      "1.0    3278\n",
      "0.0     849\n",
      "Name: ChildrenVisiting, dtype: int64\n"
     ]
    }
   ],
   "source": [
    "# Number Of Children Visiting 컬럼을 활용해, 파생변수 생성 ->  어린이 동반 / 미동반으로 분류한 Children Visiting 변수 추기 \n",
    "\n",
    "# 동반 : 1, 미동반 :0 \n",
    "d = {0:0, 1:1, 2:1, 3:1}\n",
    "train['ChildrenVisiting'] = train['NumberOfChildrenVisiting'].replace(d)\n",
    "print(train['ChildrenVisiting'].value_counts())"
   ]
  },
  {
   "cell_type": "code",
   "execution_count": 70,
   "id": "c6632825",
   "metadata": {
    "scrolled": false
   },
   "outputs": [
    {
     "name": "stdout",
     "output_type": "stream",
     "text": [
      "ProdTaken: [1 0]\n",
      "Age: [41. 49. 37. 33. 32. 59. 30. 38. 36. 35. 31. 34. 28. 29. 22. 53. 21. 42.\n",
      " 44. 46. 39. 24. 43. 50. 27. 26. 48. 55. 45. 56. 23. 51. 40. 54. 58. 20.\n",
      " 25. 19. 57. 52. 47. 18. 60. 61.]\n",
      "TypeofContact: ['Self Enquiry' 'Company Invited']\n",
      "CityTier: [3 1 2]\n",
      "DurationOfPitch: [ 6. 14.  8.  9. 30. 29. 33. 22. 32. 25. 27. 11. 13. 21. 12. 16. 15. 10.\n",
      " 31. 18. 17. 24. 35. 28. 26. 34. 20. 23.  5. 19.  7. 36.]\n",
      "Occupation: ['Salaried' 'Free Lancer' 'Small Business' 'Large Business']\n",
      "Gender: ['Female' 'Male' 'Fe Male']\n",
      "NumberOfPersonVisiting: [3 2 1 4 5]\n",
      "NumberOfFollowups: [3. 4. 2. 5. 1. 6.]\n",
      "ProductPitched: ['Deluxe' 'Basic' 'Standard' 'Super Deluxe' 'King']\n",
      "PreferredPropertyStar: [3. 4. 5.]\n",
      "MaritalStatus: ['Single' 'Divorced' 'Married' 'Unmarried']\n",
      "NumberOfTrips: [ 1.  2.  7.  5.  6.  3.  4. 19. 21.  8. 20. 22.]\n",
      "Passport: [1 0]\n",
      "PitchSatisfactionScore: [2 3 5 4 1]\n",
      "OwnCar: [1 0]\n",
      "NumberOfChildrenVisiting: [0. 2. 1. 3.]\n",
      "Designation: ['Manager' 'Executive' 'Senior Manager' 'AVP' 'VP']\n",
      "MonthlyIncome: [20993. 20130. 17090. ... 21471. 35550. 35558.]\n",
      "ProductPitched_le: [3 1 2 4 5]\n",
      "DurationOfPitch(주별): [0. 2. 1. 4. 3. 5.]\n",
      "MonthlyIncome_le: [1 0 2 5 3 4]\n",
      "ChildrenVisiting: [0. 1.]\n"
     ]
    }
   ],
   "source": [
    "# 고유값 확인을 통해 성별 Fe Male을 Female로 변경해야함을 확인 \n",
    "for col in train.columns:\n",
    "    print(f'{col}: {train[col].unique()}')"
   ]
  },
  {
   "cell_type": "code",
   "execution_count": 71,
   "id": "fe551dcf",
   "metadata": {},
   "outputs": [
    {
     "data": {
      "text/plain": [
       "Male      2462\n",
       "Female    1665\n",
       "Name: Gender, dtype: int64"
      ]
     },
     "execution_count": 71,
     "metadata": {},
     "output_type": "execute_result"
    }
   ],
   "source": [
    "# Gender 성별  ->'Fe Male'을 'Female'로 변경\n",
    "train['Gender'] = train['Gender'].str.replace('Fe Male','Female')\n",
    "train['Gender'].value_counts()"
   ]
  },
  {
   "cell_type": "code",
   "execution_count": 72,
   "id": "610ed5c2",
   "metadata": {},
   "outputs": [],
   "source": [
    "# Age 컬럼 -> 범주화 \n",
    "#  '15~19세' : 0 ,'20~24세' : 1, '25~29세' : 2,'30~34세' : 3,'35세~39세' : 4\n",
    "#  '40~44세' : 5, '45~49세' : 6, '50~54세' : 7, '55세 이상': 8\n",
    "train['Age_category'] = train['Age']// 5 - 3\n",
    "train['Age_category'].value_counts()\n",
    "li=[]\n",
    "for i in train['Age_category']:\n",
    "    if i>=8 :\n",
    "        li.append(8)\n",
    "    else :\n",
    "        li.append(i)\n",
    "train['Age_category'] = li"
   ]
  },
  {
   "cell_type": "code",
   "execution_count": 73,
   "id": "b13da2e8",
   "metadata": {},
   "outputs": [
    {
     "data": {
      "text/plain": [
       "1.0    1810\n",
       "0.0    1734\n",
       "2.0     583\n",
       "Name: NumberOfTrips_le, dtype: int64"
      ]
     },
     "execution_count": 73,
     "metadata": {},
     "output_type": "execute_result"
    }
   ],
   "source": [
    "# NumberOfTrips 평균 연간 여행 횟수 -> 범주화\n",
    "\n",
    "# 0~2회   : 0\n",
    "# 3~5회   : 1\n",
    "# 6회 이상 : 2\n",
    "\n",
    "li=[]\n",
    "for i in train['NumberOfTrips']//3: \n",
    "    if i < 2:\n",
    "        li.append(i)\n",
    "    else :\n",
    "        li.append(2)\n",
    "train['NumberOfTrips_le'] = li\n",
    "train['NumberOfTrips_le'].value_counts()"
   ]
  },
  {
   "cell_type": "code",
   "execution_count": 74,
   "id": "2111a9bc",
   "metadata": {},
   "outputs": [
    {
     "name": "stdout",
     "output_type": "stream",
     "text": [
      "Salaried          1998\n",
      "Small Business    1746\n",
      "Large Business     381\n",
      "Free Lancer          2\n",
      "Name: Occupation, dtype: int64\n"
     ]
    }
   ],
   "source": [
    "print(train['Occupation'].value_counts())#  프리렌서의 수가 너무 적기 때문에 프리렌서를 small bisiness로 간주 \n",
    "train['Occupation'] = train['Occupation'].replace({'Free Lancer':'Small Business'})"
   ]
  },
  {
   "cell_type": "code",
   "execution_count": 75,
   "id": "f52c54bd",
   "metadata": {},
   "outputs": [
    {
     "data": {
      "text/plain": [
       "array([0, 1])"
      ]
     },
     "execution_count": 75,
     "metadata": {},
     "output_type": "execute_result"
    }
   ],
   "source": [
    "# Type of Contact 고객의 제품 인지 방법 -> 라벨인코딩 \n",
    "# 회사 홍보 1, 직접 검색 0\n",
    "dic = {'Company Invited':1,'Self Enquiry':0 }\n",
    "train['TypeofContact_le'] =  train['TypeofContact'].replace(dic)\n",
    "train['TypeofContact_le'].unique()"
   ]
  },
  {
   "cell_type": "code",
   "execution_count": 76,
   "id": "771059e8",
   "metadata": {},
   "outputs": [],
   "source": [
    "# Designation 직급 -> 직급별로 라벨인코딩\n",
    "dic={'Manager' : 1, 'Senior Manager':2, 'AVP':3 ,'VP':4, 'Executive':5}\n",
    "train['Designation_le']=train['Designation'].replace(dic)"
   ]
  },
  {
   "cell_type": "code",
   "execution_count": 77,
   "id": "093977c5",
   "metadata": {},
   "outputs": [
    {
     "data": {
      "text/html": [
       "<div>\n",
       "<style scoped>\n",
       "    .dataframe tbody tr th:only-of-type {\n",
       "        vertical-align: middle;\n",
       "    }\n",
       "\n",
       "    .dataframe tbody tr th {\n",
       "        vertical-align: top;\n",
       "    }\n",
       "\n",
       "    .dataframe thead th {\n",
       "        text-align: right;\n",
       "    }\n",
       "</style>\n",
       "<table border=\"1\" class=\"dataframe\">\n",
       "  <thead>\n",
       "    <tr style=\"text-align: right;\">\n",
       "      <th></th>\n",
       "      <th>p값</th>\n",
       "    </tr>\n",
       "  </thead>\n",
       "  <tbody>\n",
       "    <tr>\n",
       "      <th>NumberOfChildrenVisiting</th>\n",
       "      <td>0.958</td>\n",
       "    </tr>\n",
       "    <tr>\n",
       "      <th>ChildrenVisiting</th>\n",
       "      <td>0.736</td>\n",
       "    </tr>\n",
       "    <tr>\n",
       "      <th>OwnCar</th>\n",
       "      <td>0.609</td>\n",
       "    </tr>\n",
       "    <tr>\n",
       "      <th>NumberOfPersonVisiting</th>\n",
       "      <td>0.107</td>\n",
       "    </tr>\n",
       "    <tr>\n",
       "      <th>Gender</th>\n",
       "      <td>0.076</td>\n",
       "    </tr>\n",
       "    <tr>\n",
       "      <th>PitchSatisfactionScore</th>\n",
       "      <td>0.001</td>\n",
       "    </tr>\n",
       "    <tr>\n",
       "      <th>ProdTaken</th>\n",
       "      <td>0.000</td>\n",
       "    </tr>\n",
       "    <tr>\n",
       "      <th>TypeofContact_le</th>\n",
       "      <td>0.000</td>\n",
       "    </tr>\n",
       "    <tr>\n",
       "      <th>NumberOfTrips_le</th>\n",
       "      <td>0.000</td>\n",
       "    </tr>\n",
       "    <tr>\n",
       "      <th>Age_category</th>\n",
       "      <td>0.000</td>\n",
       "    </tr>\n",
       "    <tr>\n",
       "      <th>MonthlyIncome_le</th>\n",
       "      <td>0.000</td>\n",
       "    </tr>\n",
       "    <tr>\n",
       "      <th>DurationOfPitch(주별)</th>\n",
       "      <td>0.000</td>\n",
       "    </tr>\n",
       "    <tr>\n",
       "      <th>ProductPitched_le</th>\n",
       "      <td>0.000</td>\n",
       "    </tr>\n",
       "    <tr>\n",
       "      <th>MonthlyIncome</th>\n",
       "      <td>0.000</td>\n",
       "    </tr>\n",
       "    <tr>\n",
       "      <th>Designation</th>\n",
       "      <td>0.000</td>\n",
       "    </tr>\n",
       "    <tr>\n",
       "      <th>Passport</th>\n",
       "      <td>0.000</td>\n",
       "    </tr>\n",
       "    <tr>\n",
       "      <th>Age</th>\n",
       "      <td>0.000</td>\n",
       "    </tr>\n",
       "    <tr>\n",
       "      <th>NumberOfTrips</th>\n",
       "      <td>0.000</td>\n",
       "    </tr>\n",
       "    <tr>\n",
       "      <th>MaritalStatus</th>\n",
       "      <td>0.000</td>\n",
       "    </tr>\n",
       "    <tr>\n",
       "      <th>PreferredPropertyStar</th>\n",
       "      <td>0.000</td>\n",
       "    </tr>\n",
       "    <tr>\n",
       "      <th>ProductPitched</th>\n",
       "      <td>0.000</td>\n",
       "    </tr>\n",
       "    <tr>\n",
       "      <th>NumberOfFollowups</th>\n",
       "      <td>0.000</td>\n",
       "    </tr>\n",
       "    <tr>\n",
       "      <th>Occupation</th>\n",
       "      <td>0.000</td>\n",
       "    </tr>\n",
       "    <tr>\n",
       "      <th>DurationOfPitch</th>\n",
       "      <td>0.000</td>\n",
       "    </tr>\n",
       "    <tr>\n",
       "      <th>CityTier</th>\n",
       "      <td>0.000</td>\n",
       "    </tr>\n",
       "    <tr>\n",
       "      <th>TypeofContact</th>\n",
       "      <td>0.000</td>\n",
       "    </tr>\n",
       "    <tr>\n",
       "      <th>Designation_le</th>\n",
       "      <td>0.000</td>\n",
       "    </tr>\n",
       "  </tbody>\n",
       "</table>\n",
       "</div>"
      ],
      "text/plain": [
       "                             p값\n",
       "NumberOfChildrenVisiting  0.958\n",
       "ChildrenVisiting          0.736\n",
       "OwnCar                    0.609\n",
       "NumberOfPersonVisiting    0.107\n",
       "Gender                    0.076\n",
       "PitchSatisfactionScore    0.001\n",
       "ProdTaken                 0.000\n",
       "TypeofContact_le          0.000\n",
       "NumberOfTrips_le          0.000\n",
       "Age_category              0.000\n",
       "MonthlyIncome_le          0.000\n",
       "DurationOfPitch(주별)       0.000\n",
       "ProductPitched_le         0.000\n",
       "MonthlyIncome             0.000\n",
       "Designation               0.000\n",
       "Passport                  0.000\n",
       "Age                       0.000\n",
       "NumberOfTrips             0.000\n",
       "MaritalStatus             0.000\n",
       "PreferredPropertyStar     0.000\n",
       "ProductPitched            0.000\n",
       "NumberOfFollowups         0.000\n",
       "Occupation                0.000\n",
       "DurationOfPitch           0.000\n",
       "CityTier                  0.000\n",
       "TypeofContact             0.000\n",
       "Designation_le            0.000"
      ]
     },
     "execution_count": 77,
     "metadata": {},
     "output_type": "execute_result"
    }
   ],
   "source": [
    "# ProdTaken 여행 패키지 신청 여부 -> 계약 여부 변수와 다른 변수들간의 카이제곱분석 진행\n",
    "\n",
    "features = train.columns\n",
    "li1=[]\n",
    "li2=[]\n",
    "for i in features:\n",
    "    chi2, p, dof, expected_ = chi2_contingency(pd.crosstab(train['ProdTaken'],train[i]))\n",
    "    p = round(p,3)\n",
    "    li1.append(chi2)\n",
    "    li2.append(round(p,3))\n",
    "    \n",
    "\n",
    "pd.DataFrame(li2, index = train.columns,columns=['p값'] ).sort_values('p값', ascending=False)\n",
    "\n",
    "# 카이제곱 분석에서 p-value값이 0.05이상이면 여행 패키지 신청 여부에 영향을 준다고 보기 어렵기 때문에 변수 drop\n",
    "\n",
    "# NumberOfChildrenVisiting, ChildrenVisiting => 어린이 동반 여부와 동반 어린이수는 고객의 여행상품 신청에 영향을 준다고 보기 어려움\n",
    "\n",
    "# Gender, OwnCar  -> 성별, 차량 소유, 여행객수는 여행상품 상품 신청에 영향을 준다고 보기 어려움\n"
   ]
  },
  {
   "cell_type": "code",
   "execution_count": 78,
   "id": "5dd3d48b",
   "metadata": {},
   "outputs": [],
   "source": [
    "# 해당 컬럼 삭제\n",
    "train = train.drop(['NumberOfChildrenVisiting', 'ChildrenVisiting', 'Gender', 'OwnCar' ], 1)"
   ]
  },
  {
   "cell_type": "markdown",
   "id": "295e5078",
   "metadata": {},
   "source": []
  },
  {
   "cell_type": "markdown",
   "id": "f14d940a",
   "metadata": {},
   "source": [
    "#### 2. 고객분석 및 비지니스 과제 도출\n",
    "#### 2-1 고객분석"
   ]
  },
  {
   "cell_type": "code",
   "execution_count": 79,
   "id": "29562d5c",
   "metadata": {},
   "outputs": [
    {
     "name": "stdout",
     "output_type": "stream",
     "text": [
      "\n",
      "NumberOfTrips_le\n",
      "0.0    20.6\n",
      "1.0    16.6\n",
      "2.0    23.8\n",
      "dtype: float64\n",
      "0.0001332076\n",
      "\n",
      "Age_category\n",
      "0.0    69.0\n",
      "1.0    42.1\n",
      "2.0    28.0\n",
      "3.0    20.9\n",
      "4.0    11.3\n",
      "5.0    15.8\n",
      "6.0    13.6\n",
      "7.0    14.8\n",
      "8.0    17.1\n",
      "dtype: float64\n",
      "0.0\n",
      "\n",
      "CityTier\n",
      "1    16.5\n",
      "2    26.5\n",
      "3    24.2\n",
      "dtype: float64\n",
      "5.4e-09\n",
      "\n",
      "Passport\n",
      "0    12.4\n",
      "1    35.8\n",
      "dtype: float64\n",
      "0.0\n",
      "\n",
      "Occupation\n",
      "Large Business    29.1\n",
      "Salaried          18.0\n",
      "Small Business    18.7\n",
      "dtype: float64\n",
      "1.9319e-06\n",
      "\n",
      "Designation_le\n",
      "1    11.6\n",
      "2    16.1\n",
      "3     7.6\n",
      "4     8.7\n",
      "5    30.0\n",
      "dtype: float64\n",
      "0.0\n",
      "\n",
      "MonthlyIncome_le\n",
      "0    28.9\n",
      "1    21.9\n",
      "2    14.8\n",
      "3    14.6\n",
      "4    17.7\n",
      "5    10.5\n",
      "dtype: float64\n",
      "0.0\n",
      "\n",
      "MaritalStatus\n",
      "Divorced     13.3\n",
      "Married      14.2\n",
      "Single       36.4\n",
      "Unmarried    24.3\n",
      "dtype: float64\n",
      "0.0\n",
      "pass : []\n"
     ]
    }
   ],
   "source": [
    "# 고객 관련 변수들로, 계약률이 어떻게 달라지는지 확인해본다. \n",
    "\n",
    "cols = ['NumberOfTrips_le', 'Age_category', 'CityTier', 'Passport', \n",
    "        'Occupation', 'Designation_le', 'MonthlyIncome_le', 'MaritalStatus']\n",
    "\n",
    "li=[]\n",
    "\n",
    "for x in cols :\n",
    "    chi2, p, dof, expected_ = chi2_contingency( pd.crosstab(train[x],train['ProdTaken']))\n",
    "    if p > 0.05:\n",
    "        li.append(x)\n",
    "    else :\n",
    "        실제 = pd.crosstab(train[x],train['ProdTaken']).rename(columns = {0:'실제_0',1:'실제_1'})\n",
    "        예상 = pd.DataFrame(expected_,columns=['예상_0','예상_1'])\n",
    "        pd.concat([예상,실제], 1)\n",
    "        expected_rate = round((예상['예상_1']/예상.sum(axis=1)).values[0]*100,1)\n",
    "        print()\n",
    "        #print(f'{x}  평균 계약률 (%) : {expected_rate}')\n",
    "        #print('실제 계약률(%)')\n",
    "        print(round(실제['실제_1']/실제.sum(axis=1)*100,1))\n",
    "        print(round(p,10))\n",
    "print(f'pass : {li}')   \n",
    "\n",
    "\n",
    "\n",
    "#  여권 소유 여부, 나이, 결혼 여부 \n",
    "#  따라서 나이, 결혼 여부 등의 정보로 타게팅을 하는 것이 필요하다고 보았다. \n"
   ]
  },
  {
   "cell_type": "code",
   "execution_count": 142,
   "id": "30bd4745",
   "metadata": {},
   "outputs": [
    {
     "data": {
      "text/plain": [
       "Text(0.5, 1.0, '미계약/계약고객')"
      ]
     },
     "execution_count": 142,
     "metadata": {},
     "output_type": "execute_result"
    },
    {
     "data": {
      "image/png": "[encoded data removed]",
      "text/plain": [
       "<Figure size 396x432 with 1 Axes>"
      ]
     },
     "metadata": {
      "needs_background": "light"
     },
     "output_type": "display_data"
    }
   ],
   "source": [
    "# 계약고객/ 미계약고객 비율          \n",
    "def write_percent(ax, total_size):\n",
    "    \n",
    "  # 막대 그래프 상단에 타깃값 비율 표시\n",
    "  for patch in ax.patches:\n",
    "    height = patch.get_height() # 도형 높이(데이터 개수)\n",
    "    width = patch.get_width()   # 도형 너비\n",
    "    left_coord = patch.get_x()  # 도형 왼쪽 테두리의 x축 위치\n",
    "    percent = height/total_size*100 # 타깃값 비율\n",
    "\n",
    "    # (x,y) 좌표에 텍스트 입력\n",
    "    ax.text(left_coord + width/2.0,\n",
    "            height + total_size*0.001,\n",
    "            '{:1.1f}%'.format(percent),\n",
    "            ha='center')\n",
    "\n",
    "\n",
    "plt.rc('font', size=15)\n",
    "plt.figure(figsize=(5.5,6))\n",
    "\n",
    "ax = sns.countplot(x='ProdTaken', data=train, palette='Set3')\n",
    "write_percent(ax, len(train))\n",
    "ax.set_title('미계약/계약고객')"
   ]
  },
  {
   "cell_type": "markdown",
   "id": "f091ed93",
   "metadata": {},
   "source": [
    "* 전체 고객 중, \n",
    "* 계약 고객 (평균 계약률): 19.3% \n",
    "* 미계약 고객 : 80.7%\n",
    "\n",
    "##### "
   ]
  },
  {
   "cell_type": "code",
   "execution_count": 143,
   "id": "a19d42aa",
   "metadata": {},
   "outputs": [
    {
     "data": {
      "text/html": [
       "<div>\n",
       "<style scoped>\n",
       "    .dataframe tbody tr th:only-of-type {\n",
       "        vertical-align: middle;\n",
       "    }\n",
       "\n",
       "    .dataframe tbody tr th {\n",
       "        vertical-align: top;\n",
       "    }\n",
       "\n",
       "    .dataframe thead th {\n",
       "        text-align: right;\n",
       "    }\n",
       "</style>\n",
       "<table border=\"1\" class=\"dataframe\">\n",
       "  <thead>\n",
       "    <tr style=\"text-align: right;\">\n",
       "      <th>Age_category_2</th>\n",
       "      <th>10대</th>\n",
       "      <th>20~24세</th>\n",
       "      <th>25~29세</th>\n",
       "      <th>30~34세</th>\n",
       "      <th>35~39세</th>\n",
       "      <th>40~44세</th>\n",
       "      <th>45~49세</th>\n",
       "      <th>50~54세</th>\n",
       "      <th>55세이상</th>\n",
       "    </tr>\n",
       "  </thead>\n",
       "  <tbody>\n",
       "    <tr>\n",
       "      <th>계약률(%)</th>\n",
       "      <td>69.0</td>\n",
       "      <td>42.1</td>\n",
       "      <td>28.0</td>\n",
       "      <td>20.9</td>\n",
       "      <td>11.3</td>\n",
       "      <td>15.8</td>\n",
       "      <td>13.6</td>\n",
       "      <td>14.8</td>\n",
       "      <td>17.1</td>\n",
       "    </tr>\n",
       "  </tbody>\n",
       "</table>\n",
       "</div>"
      ],
      "text/plain": [
       "Age_category_2   10대  20~24세  25~29세  30~34세  35~39세  40~44세  45~49세  50~54세  \\\n",
       "계약률(%)          69.0    42.1    28.0    20.9    11.3    15.8    13.6    14.8   \n",
       "\n",
       "Age_category_2  55세이상  \n",
       "계약률(%)           17.1  "
      ]
     },
     "execution_count": 143,
     "metadata": {},
     "output_type": "execute_result"
    },
    {
     "data": {
      "image/png": "[encoded data removed]",
      "text/plain": [
       "<Figure size 864x432 with 1 Axes>"
      ]
     },
     "metadata": {
      "needs_background": "light"
     },
     "output_type": "display_data"
    }
   ],
   "source": [
    "# 나이대별 계약자/미계약자 수\n",
    "train['계약여부'] = train['ProdTaken'].replace({0:'미계약',1:'계약'})\n",
    "plt.figure(figsize=(12,6))\n",
    "ax = sns.countplot(x='Age_category', data=train, hue='계약여부', palette='Set3')\n",
    "plt.ylabel('명')\n",
    "plt.xlabel('나이구분')\n",
    "plt.title('나이대별 계약자/미계약자 수')\n",
    "\n",
    "# 나이대별 계약률(구매전환율)\n",
    "\n",
    "dic={0:'10대',1:'20~24세', 2:'25~29세', 3:'30~34세', 4:'35~39세', 5:'40~44세', 6:'45~49세', 7:'50~54세', 8:'55세이상' }\n",
    "train['Age_category_2'] = train['Age_category'].replace(dic)\n",
    "\n",
    "df_age_prod = pd.crosstab(train['Age_category_2'],train['ProdTaken'])\n",
    "구매전환율 = df_age_prod.apply(lambda x : round(x/df_age_prod.sum(axis=1),3)*100)[1]\n",
    "df_age_계약률 = pd.DataFrame(구매전환율).rename(columns={1:'계약률(%)'})\n",
    "df_age_계약률.T"
   ]
  },
  {
   "cell_type": "markdown",
   "id": "27e54897",
   "metadata": {},
   "source": [
    "\n",
    "* 계약률 max : 69.0% (15-19세)\n",
    "* 계약률 min : 11.3% (35-39세)\n",
    "\n",
    "#### * 높은 계약률을 보인 그룹 \n",
    "\n",
    "   15-19세 (69.0%)       \n",
    "   20-24세 (42.1%)     \n",
    "   25-29세 (28.0%)\n",
    "\n",
    "#### * 계약률이 평균과 비슷한 그룹 \n",
    "\n",
    "   30-34세 (20.9%)\n",
    " \n",
    "#### * 계약률이 평균 이하인 그룹 \n",
    "\n",
    "   35-39세 (11.3%)   \n",
    "   40-44세 (15.8%)   \n",
    "   45-49세 (13.6%)    \n",
    "   55세이상 (17.1%)\n"
   ]
  },
  {
   "cell_type": "code",
   "execution_count": 144,
   "id": "444e19c3",
   "metadata": {},
   "outputs": [],
   "source": [
    "# [ 나이대별 고객 비율(%) ]\n",
    "\n",
    "방문고객 = train['Age_category'].value_counts().sort_index()\n",
    "계약고객= train.loc[train['ProdTaken']==1, 'Age_category'].value_counts().sort_index()\n",
    "방문고객비율 = round(train['Age_category'].value_counts(normalize=True),3).sort_index()*100\n",
    "계약고객비율= train.loc[train['ProdTaken']==1, 'Age_category'].value_counts(normalize=True).sort_index().map(lambda x : round(x,3)*100)\n",
    "\n",
    "df = pd.concat([방문고객,  계약고객, 방문고객비율, 계약고객비율],1)\n",
    "df.columns=['방문고객(명)','계약고객(명)' ,'방문고객비율(%)','계약고객비율(%)']\n",
    "df.index = ['10대','20~24세','25~29세','30~34세','35세~39세', '40~44세','45~49세', '50~54세','55세이상']\n",
    "df.loc['전체']=round(df.sum())"
   ]
  },
  {
   "cell_type": "code",
   "execution_count": 145,
   "id": "0ddeda20",
   "metadata": {},
   "outputs": [],
   "source": [
    "def write_percent_2(ax, total_size):\n",
    "    \n",
    "  # 막대 그래프 상단에 타깃값 비율 표시\n",
    "  for patch in ax.patches:\n",
    "    height = patch.get_height() # 도형 높이(데이터 개수)\n",
    "    width = patch.get_width()   # 도형 너비\n",
    "    left_coord = patch.get_x()  # 도형 왼쪽 테두리의 x축 위치\n",
    "    percent = height/total_size # 타깃값 비율\n",
    "\n",
    "    # (x,y) 좌표에 텍스트 입력\n",
    "    ax.text(left_coord + width/2.0,\n",
    "            height + total_size*0.001,\n",
    "            '{:1.1f}%'.format(percent),\n",
    "            ha='center')"
   ]
  },
  {
   "cell_type": "code",
   "execution_count": 146,
   "id": "dcd0f313",
   "metadata": {},
   "outputs": [
    {
     "data": {
      "text/plain": [
       "Text(0.5, 1.0, '나이대별 계약률')"
      ]
     },
     "execution_count": 146,
     "metadata": {},
     "output_type": "execute_result"
    },
    {
     "data": {
      "image/png": "[encoded data removed]",
      "text/plain": [
       "<Figure size 1296x720 with 2 Axes>"
      ]
     },
     "metadata": {
      "needs_background": "light"
     },
     "output_type": "display_data"
    }
   ],
   "source": [
    "plt.figure(figsize=(18,10))\n",
    "\n",
    "\n",
    "palette = ['orange' ,'orange','orange','lightgrey','lightgrey','lightgrey','lightgrey','lightgrey','lightgrey']\n",
    "df_방문고객비중 = df.drop(['전체'],0).reset_index().rename(columns={'index':'나이대'})\n",
    "area1= plt.subplot(1,2,1)\n",
    "ax2 = sns.barplot(data= df_방문고객비중, x='나이대', y='방문고객비율(%)', palette=palette, ax=area1)\n",
    "plt.xticks(fontsize=11)\n",
    "plt.title('나이대별 방문고객 비율')\n",
    "\n",
    "area2= plt.subplot(1,2,2)\n",
    "values = df_age_계약률['계약률(%)']\n",
    "idx = df_age_계약률.index\n",
    "ax1 = sns.barplot( x= idx, y=values, palette=palette, ax=area2)\n",
    "plt.xlabel('나이대')\n",
    "plt.xticks(fontsize=11)\n",
    "plt.title('나이대별 계약률')"
   ]
  },
  {
   "cell_type": "code",
   "execution_count": 147,
   "id": "2e81958d",
   "metadata": {},
   "outputs": [
    {
     "data": {
      "text/plain": [
       "Text(0.5, 1.0, '나이대별 계약률')"
      ]
     },
     "execution_count": 147,
     "metadata": {},
     "output_type": "execute_result"
    },
    {
     "data": {
      "image/png": "[encoded data removed]",
      "text/plain": [
       "<Figure size 1296x720 with 2 Axes>"
      ]
     },
     "metadata": {
      "needs_background": "light"
     },
     "output_type": "display_data"
    }
   ],
   "source": [
    "plt.figure(figsize=(18,10))\n",
    "\n",
    "\n",
    "palette = ['skyblue' if (x == min(values)) else 'lightgrey' for x in values]\n",
    "df_방문고객비중 = df.drop(['전체'],0).reset_index().rename(columns={'index':'나이대'})\n",
    "area1= plt.subplot(1,2,1)\n",
    "ax2 = sns.barplot(data= df_방문고객비중, x='나이대', y='방문고객비율(%)', palette=palette, ax=area1)\n",
    "plt.xticks(fontsize=11)\n",
    "plt.title('나이대별 방문고객 비율')\n",
    "\n",
    "area2= plt.subplot(1,2,2)\n",
    "values = df_age_계약률['계약률(%)']\n",
    "idx = df_age_계약률.index\n",
    "ax1 = sns.barplot( x= idx, y=values, palette=palette, ax=area2)\n",
    "plt.xlabel('나이대')\n",
    "plt.xticks(fontsize=11)\n",
    "plt.title('나이대별 계약률')\n",
    "\n",
    "\n",
    "\n"
   ]
  },
  {
   "cell_type": "markdown",
   "id": "191579e5",
   "metadata": {},
   "source": [
    "####  2-2 비지니스 과제 도출"
   ]
  },
  {
   "cell_type": "markdown",
   "id": "778db465",
   "metadata": {},
   "source": [
    "\n",
    "####  1. 높은 계약률을 보이는 10~20대 신규 고객 확보 방안 마련 필요\n",
    "* 10-20대는 매우 높은 구매전환율을 보이지만, 전체방문고객 중 20%밖에 되지 않는다.\n",
    "\n",
    "\n",
    "\n",
    "\n",
    "#### 2. 계약률이 낮은 30대 후반 고객층의 계약률을 높이기 위한 방안 마련 필요\n",
    "* 35~39세 고객들은 전체 방문 고객의 22.3%를 차지하는 주요 고객층이지만, 계약율은 11.3%로 전 연령대 중 가장 낮은 수치를 보인다.\n"
   ]
  },
  {
   "cell_type": "markdown",
   "id": "1bc07254",
   "metadata": {},
   "source": [
    "\n"
   ]
  },
  {
   "cell_type": "markdown",
   "id": "46cdf201",
   "metadata": {},
   "source": [
    "#### 2-3.           높은 계약률을 보이는 10~20대 신규 고객 확보 방안 "
   ]
  },
  {
   "cell_type": "code",
   "execution_count": 149,
   "id": "f8de5cbf",
   "metadata": {
    "scrolled": false
   },
   "outputs": [
    {
     "name": "stdout",
     "output_type": "stream",
     "text": [
      "[나이대별 여행 상품 선호]\n"
     ]
    },
    {
     "data": {
      "text/html": [
       "<div>\n",
       "<style scoped>\n",
       "    .dataframe tbody tr th:only-of-type {\n",
       "        vertical-align: middle;\n",
       "    }\n",
       "\n",
       "    .dataframe tbody tr th {\n",
       "        vertical-align: top;\n",
       "    }\n",
       "\n",
       "    .dataframe thead th {\n",
       "        text-align: right;\n",
       "    }\n",
       "</style>\n",
       "<table border=\"1\" class=\"dataframe\">\n",
       "  <thead>\n",
       "    <tr style=\"text-align: right;\">\n",
       "      <th>ProductPitched</th>\n",
       "      <th>Basic</th>\n",
       "      <th>Deluxe</th>\n",
       "      <th>King</th>\n",
       "      <th>Standard</th>\n",
       "      <th>Super Deluxe</th>\n",
       "      <th>합계</th>\n",
       "    </tr>\n",
       "  </thead>\n",
       "  <tbody>\n",
       "    <tr>\n",
       "      <th>10대</th>\n",
       "      <td>96.6</td>\n",
       "      <td>0.0</td>\n",
       "      <td>0.0</td>\n",
       "      <td>3.4</td>\n",
       "      <td>0.0</td>\n",
       "      <td>100.0</td>\n",
       "    </tr>\n",
       "    <tr>\n",
       "      <th>20~24세</th>\n",
       "      <td>94.3</td>\n",
       "      <td>4.5</td>\n",
       "      <td>0.0</td>\n",
       "      <td>1.1</td>\n",
       "      <td>0.0</td>\n",
       "      <td>100.0</td>\n",
       "    </tr>\n",
       "    <tr>\n",
       "      <th>25~29세</th>\n",
       "      <td>79.6</td>\n",
       "      <td>12.3</td>\n",
       "      <td>1.2</td>\n",
       "      <td>6.8</td>\n",
       "      <td>0.0</td>\n",
       "      <td>100.0</td>\n",
       "    </tr>\n",
       "    <tr>\n",
       "      <th>30~34세</th>\n",
       "      <td>62.0</td>\n",
       "      <td>24.0</td>\n",
       "      <td>0.0</td>\n",
       "      <td>14.1</td>\n",
       "      <td>0.0</td>\n",
       "      <td>100.0</td>\n",
       "    </tr>\n",
       "    <tr>\n",
       "      <th>35세~39세</th>\n",
       "      <td>40.4</td>\n",
       "      <td>35.6</td>\n",
       "      <td>0.0</td>\n",
       "      <td>22.1</td>\n",
       "      <td>1.9</td>\n",
       "      <td>100.0</td>\n",
       "    </tr>\n",
       "    <tr>\n",
       "      <th>40~44세</th>\n",
       "      <td>50.5</td>\n",
       "      <td>23.1</td>\n",
       "      <td>4.4</td>\n",
       "      <td>8.8</td>\n",
       "      <td>13.2</td>\n",
       "      <td>100.0</td>\n",
       "    </tr>\n",
       "    <tr>\n",
       "      <th>45~49세</th>\n",
       "      <td>21.6</td>\n",
       "      <td>27.5</td>\n",
       "      <td>2.0</td>\n",
       "      <td>43.1</td>\n",
       "      <td>5.9</td>\n",
       "      <td>100.0</td>\n",
       "    </tr>\n",
       "    <tr>\n",
       "      <th>50~54세</th>\n",
       "      <td>23.3</td>\n",
       "      <td>39.5</td>\n",
       "      <td>0.0</td>\n",
       "      <td>37.2</td>\n",
       "      <td>0.0</td>\n",
       "      <td>100.0</td>\n",
       "    </tr>\n",
       "    <tr>\n",
       "      <th>55세이상</th>\n",
       "      <td>45.9</td>\n",
       "      <td>16.2</td>\n",
       "      <td>5.4</td>\n",
       "      <td>27.0</td>\n",
       "      <td>5.4</td>\n",
       "      <td>100.0</td>\n",
       "    </tr>\n",
       "  </tbody>\n",
       "</table>\n",
       "</div>"
      ],
      "text/plain": [
       "ProductPitched  Basic  Deluxe  King  Standard  Super Deluxe     합계\n",
       "10대              96.6     0.0   0.0       3.4           0.0  100.0\n",
       "20~24세           94.3     4.5   0.0       1.1           0.0  100.0\n",
       "25~29세           79.6    12.3   1.2       6.8           0.0  100.0\n",
       "30~34세           62.0    24.0   0.0      14.1           0.0  100.0\n",
       "35세~39세          40.4    35.6   0.0      22.1           1.9  100.0\n",
       "40~44세           50.5    23.1   4.4       8.8          13.2  100.0\n",
       "45~49세           21.6    27.5   2.0      43.1           5.9  100.0\n",
       "50~54세           23.3    39.5   0.0      37.2           0.0  100.0\n",
       "55세이상            45.9    16.2   5.4      27.0           5.4  100.0"
      ]
     },
     "execution_count": 149,
     "metadata": {},
     "output_type": "execute_result"
    },
    {
     "data": {
      "image/png": "[encoded data removed]",
      "text/plain": [
       "<Figure size 1656x720 with 1 Axes>"
      ]
     },
     "metadata": {
      "needs_background": "light"
     },
     "output_type": "display_data"
    }
   ],
   "source": [
    "# 나이대별 여행 상품 선호도 (<-직원 추천 상품을 구매한 것으로 가정)\n",
    "\n",
    "df_ProdTaken = train[train['ProdTaken']==1] \n",
    "cross_ProdTaken = pd.crosstab(df_ProdTaken['ProductPitched'],df_ProdTaken['Age_category'])\n",
    "cross_ProdTaken.columns = ['10대','20~24세','25~29세','30~34세','35세~39세', '40~44세','45~49세', '50~54세','55세이상']\n",
    "\n",
    "# 고객 선호도 (%) 그래프 \n",
    "a=[]\n",
    "df = pd.DataFrame(index=['Basic','Standard','Deluxe','Super Deluxe','King']).reset_index().rename(columns={'index':'여행상품등급'})\n",
    "for i in [0,1,2,3,4,5,6,7,8] :\n",
    "    a = (df_ProdTaken.loc[df_ProdTaken['Age_category']==i,'ProductPitched'].value_counts(normalize=True)*100).reset_index()\n",
    "    a.columns = ['여행상품등급',i]\n",
    "    df= pd.merge(df,a,on='여행상품등급',how='left')\n",
    "df.columns= ['여행상품등급', '10대','20~24세','25~29세','30~34세','35세~39세', '40~44세','45~49세', '50~54세','55세이상']\n",
    "\n",
    "df2 = pd.melt(df, id_vars='여행상품등급', var_name='나이대',value_name='선호도(%)')\n",
    "df2 = df2.fillna(0)\n",
    "plt.figure(figsize=(23,10))\n",
    "\n",
    "\n",
    "\n",
    "ax1 = sns.barplot(data=df2, x='나이대', y='선호도(%)', hue='여행상품등급', palette='Set3')\n",
    "write_percent_2(ax1, 1)\n",
    "plt.title('소득별 고객의 여행상품 선호도(%)', fontsize=40)\n",
    "plt.ylabel('선호도(%)', fontsize=30)\n",
    "plt.xlabel('나이대', fontsize=30)\n",
    "plt.legend(fontsize=30)\n",
    "plt.xticks(fontsize=20)\n",
    "\n",
    "print('[나이대별 여행 상품 선호]')\n",
    "cross_ProdTaken.loc['합계'] = cross_ProdTaken.sum()\n",
    "round(cross_ProdTaken/cross_ProdTaken.loc['합계']*100,1).T\n",
    "\n",
    "\n"
   ]
  },
  {
   "cell_type": "markdown",
   "id": "2df7b485",
   "metadata": {},
   "source": [
    " 10~20대 고객은 여행패키지 상품 중 Basic 상품 선호 경향이 뚜렷하게 나타난다.\n"
   ]
  },
  {
   "cell_type": "code",
   "execution_count": 151,
   "id": "96872702",
   "metadata": {},
   "outputs": [
    {
     "data": {
      "image/png": "[encoded data removed]",
      "text/plain": [
       "<Figure size 1080x504 with 2 Axes>"
      ]
     },
     "metadata": {
      "needs_background": "light"
     },
     "output_type": "display_data"
    }
   ],
   "source": [
    "# 10대~20대의 숙박시설 선호\n",
    "\n",
    "    \n",
    "    \n",
    "plt.figure(figsize=(15,7))   \n",
    "area1 = plt.subplot(1,2,1)    \n",
    "df = ((train.loc[train['Age_category'].isin([0,1,2]), 'PreferredPropertyStar'].value_counts(normalize=True)*100).reset_index())\n",
    "ax1 = sns.barplot(data=df, x = 'index', y='PreferredPropertyStar', palette='Blues_r', ax=area1)\n",
    "plt.title('10대, 20대의 숙박시설 선호 비율', fontsize=18)\n",
    "plt.xlabel('숙박시설 등급', fontsize=13)\n",
    "plt.ylabel('선호비율(%)', fontsize=13)\n",
    "write_percent_2(ax1,1)\n",
    "\n",
    "\n",
    "\n",
    "\n",
    "df_10대20대 = train[train['Age_category'].isin([0,1,2])]\n",
    "cross = pd.crosstab( df_10대20대['ProdTaken'], df_10대20대['PreferredPropertyStar'])  \n",
    "계약률_1020 = round((cross/cross.sum()).loc[1:1]*100,4).rename(index={1:'계약률(%)'})\n",
    "계약률_1020 = 계약률_1020.T.reset_index()\n",
    "\n",
    "area2 = plt.subplot(1,2,2)   \n",
    "ax2 = sns.barplot(data=계약률_1020, x = 'PreferredPropertyStar', y='계약률(%)', palette='Blues_r', ax=area2)\n",
    "plt.title('10대, 20대의 숙박시설 등급별 계약률', fontsize=18)\n",
    "plt.xlabel('숙박시설 등급', fontsize=13)\n",
    "plt.ylabel('계약률(%)', fontsize=13)\n",
    "write_percent_2(ax2, 1)\n",
    "plt.show()\n",
    "\n",
    "\n",
    "# 10~20대 고객의 숙박 등급 선호도\n",
    "# 3 star 숙박등급을 선호하는 고객들이 과반수 이상 (57.3%)\n",
    "# 4 star 선호 비중 (22.2%), 5 star 선호 비중 (20.5%)"
   ]
  },
  {
   "cell_type": "markdown",
   "id": "e94d90c2",
   "metadata": {},
   "source": [
    "#### 문제점 : \n",
    "- 10~20대 고객 중 3 star 숙박등급을 선호하는 고객 비중이 과반이상 (57.3%)인데 반해, 고객들의 계약률이 상대적으로 낮다.(28.8%)\n",
    "\n",
    "- 3 star 숙박등급을 선호하는 고객의 니즈를 충족시키지 못 하고 있는 것으로 예상된다. \n",
    "\n",
    "#### 제안 : \n",
    "- (기존에 3star 숙박 등급을 제공하는 여행 패키지가 있다면), 이 상품 자체에 문제가 있는 것으로 예상되며, 상품 자체를 개선할 필요가 있다.  \n",
    "\n",
    "- (기존에 3star 숙박 등급을 제공하는 여행 패키지가 없다면), 고객의 니즈에 맞는 3 star 숙박 등급을 제공하며 가격을 낮춘 패키지 상품을 추가 개발할 필요성이 있다.\n"
   ]
  },
  {
   "cell_type": "markdown",
   "id": "06ad546e",
   "metadata": {},
   "source": [
    "#### 고객 데이터 분석 결론 1\n",
    "* 구매전환률이 높은 10~20대 그룹을 타겟으로 상품 개발, 타겟 광고 등을 진행하는 것을 제안하여 고객수를 늘리는 방안\n",
    "-> 가장 구매전환률이 높은 그룹이기 때문에 이들을 공략하여 타겟 광고 및 특화 상품 개발이 필요 (Basic 상품을 가장 선호)\n",
    "-> 현재 3star 숙박을 선호하는 고객들의 계약률이 떨어지는 상황으로, 니즈에 맞는 합리적 가격의 패키지 상품을 개발할 필요성이 있음\n",
    "\n"
   ]
  },
  {
   "cell_type": "code",
   "execution_count": null,
   "id": "54472190",
   "metadata": {},
   "outputs": [],
   "source": []
  },
  {
   "cell_type": "markdown",
   "id": "917ee9c6",
   "metadata": {},
   "source": [
    "#### 2-4. 계약률이 낮은 30대 후반 고객층의 계약률을 높이기 위한 방안\n"
   ]
  },
  {
   "cell_type": "code",
   "execution_count": 129,
   "id": "4683ade1",
   "metadata": {},
   "outputs": [
    {
     "name": "stdout",
     "output_type": "stream",
     "text": [
      "[나이대별 결혼상태(%)]\n"
     ]
    },
    {
     "data": {
      "text/html": [
       "<div>\n",
       "<style scoped>\n",
       "    .dataframe tbody tr th:only-of-type {\n",
       "        vertical-align: middle;\n",
       "    }\n",
       "\n",
       "    .dataframe tbody tr th {\n",
       "        vertical-align: top;\n",
       "    }\n",
       "\n",
       "    .dataframe thead th {\n",
       "        text-align: right;\n",
       "    }\n",
       "</style>\n",
       "<table border=\"1\" class=\"dataframe\">\n",
       "  <thead>\n",
       "    <tr style=\"text-align: right;\">\n",
       "      <th>MaritalStatus_3</th>\n",
       "      <th>Married</th>\n",
       "      <th>Single/Unmarried/Divorced</th>\n",
       "      <th>합계</th>\n",
       "    </tr>\n",
       "  </thead>\n",
       "  <tbody>\n",
       "    <tr>\n",
       "      <th>10대</th>\n",
       "      <td>0.0</td>\n",
       "      <td>100.0</td>\n",
       "      <td>100.0</td>\n",
       "    </tr>\n",
       "    <tr>\n",
       "      <th>20~24세</th>\n",
       "      <td>29.2</td>\n",
       "      <td>70.8</td>\n",
       "      <td>100.0</td>\n",
       "    </tr>\n",
       "    <tr>\n",
       "      <th>25~29세</th>\n",
       "      <td>47.4</td>\n",
       "      <td>52.6</td>\n",
       "      <td>100.0</td>\n",
       "    </tr>\n",
       "    <tr>\n",
       "      <th>30~34세</th>\n",
       "      <td>47.4</td>\n",
       "      <td>52.6</td>\n",
       "      <td>100.0</td>\n",
       "    </tr>\n",
       "    <tr>\n",
       "      <th>35세~39세</th>\n",
       "      <td>51.6</td>\n",
       "      <td>48.4</td>\n",
       "      <td>100.0</td>\n",
       "    </tr>\n",
       "    <tr>\n",
       "      <th>40~44세</th>\n",
       "      <td>53.7</td>\n",
       "      <td>46.3</td>\n",
       "      <td>100.0</td>\n",
       "    </tr>\n",
       "    <tr>\n",
       "      <th>45~49세</th>\n",
       "      <td>52.0</td>\n",
       "      <td>48.0</td>\n",
       "      <td>100.0</td>\n",
       "    </tr>\n",
       "    <tr>\n",
       "      <th>50~54세</th>\n",
       "      <td>46.4</td>\n",
       "      <td>53.6</td>\n",
       "      <td>100.0</td>\n",
       "    </tr>\n",
       "    <tr>\n",
       "      <th>55세이상</th>\n",
       "      <td>47.9</td>\n",
       "      <td>52.1</td>\n",
       "      <td>100.0</td>\n",
       "    </tr>\n",
       "  </tbody>\n",
       "</table>\n",
       "</div>"
      ],
      "text/plain": [
       "MaritalStatus_3  Married  Single/Unmarried/Divorced     합계\n",
       "10대                  0.0                      100.0  100.0\n",
       "20~24세              29.2                       70.8  100.0\n",
       "25~29세              47.4                       52.6  100.0\n",
       "30~34세              47.4                       52.6  100.0\n",
       "35세~39세             51.6                       48.4  100.0\n",
       "40~44세              53.7                       46.3  100.0\n",
       "45~49세              52.0                       48.0  100.0\n",
       "50~54세              46.4                       53.6  100.0\n",
       "55세이상               47.9                       52.1  100.0"
      ]
     },
     "execution_count": 129,
     "metadata": {},
     "output_type": "execute_result"
    }
   ],
   "source": [
    "# [MaritalStatus]\n",
    "# Single, Unmarried, Divorced, Married로 나뉨 -> 미혼상태/기혼상태로 라벨인코딩\n",
    "\n",
    "\n",
    "# Single/Unmarried/Divorced -> 미혼 \n",
    "# Married -> 기혼\n",
    "\n",
    "\n",
    "train['MaritalStatus_3'] = train['MaritalStatus'].replace({ 'Single':'Single/Unmarried/Divorced',\n",
    "                                                           'Unmarried':'Single/Unmarried/Divorced',\n",
    "                                                            'Divorced' : 'Single/Unmarried/Divorced'})\n",
    "cross = pd.crosstab(train['MaritalStatus_3'],train['Age_category'])\n",
    "cross.columns = ['10대','20~24세','25~29세','30~34세','35세~39세', '40~44세','45~49세', '50~54세','55세이상']\n",
    "\n",
    "print('[나이대별 결혼상태(%)]')\n",
    "cross.loc['합계'] = cross.sum()\n",
    "round(cross/cross.loc['합계']*100,1).T\n",
    "\n",
    "# 기혼과 미혼 상태 : 25세 이후부터는 약 1:1의 비율"
   ]
  },
  {
   "cell_type": "code",
   "execution_count": 153,
   "id": "2a6202cc",
   "metadata": {},
   "outputs": [
    {
     "name": "stdout",
     "output_type": "stream",
     "text": [
      "[MaritalStatus에 따른 평균 계약률 (30대 후반 그룹 제외)]\n"
     ]
    },
    {
     "data": {
      "text/html": [
       "<div>\n",
       "<style scoped>\n",
       "    .dataframe tbody tr th:only-of-type {\n",
       "        vertical-align: middle;\n",
       "    }\n",
       "\n",
       "    .dataframe tbody tr th {\n",
       "        vertical-align: top;\n",
       "    }\n",
       "\n",
       "    .dataframe thead th {\n",
       "        text-align: right;\n",
       "    }\n",
       "</style>\n",
       "<table border=\"1\" class=\"dataframe\">\n",
       "  <thead>\n",
       "    <tr style=\"text-align: right;\">\n",
       "      <th>MaritalStatus_3</th>\n",
       "      <th>Married</th>\n",
       "      <th>Single/Unmarried/Divorced</th>\n",
       "    </tr>\n",
       "    <tr>\n",
       "      <th>ProdTaken</th>\n",
       "      <th></th>\n",
       "      <th></th>\n",
       "    </tr>\n",
       "  </thead>\n",
       "  <tbody>\n",
       "    <tr>\n",
       "      <th>계약률(%)</th>\n",
       "      <td>15.0</td>\n",
       "      <td>27.0</td>\n",
       "    </tr>\n",
       "  </tbody>\n",
       "</table>\n",
       "</div>"
      ],
      "text/plain": [
       "MaritalStatus_3  Married  Single/Unmarried/Divorced\n",
       "ProdTaken                                          \n",
       "계약률(%)              15.0                       27.0"
      ]
     },
     "execution_count": 153,
     "metadata": {},
     "output_type": "execute_result"
    },
    {
     "data": {
      "image/png": "[encoded data removed]",
      "text/plain": [
       "<Figure size 360x360 with 1 Axes>"
      ]
     },
     "metadata": {
      "needs_background": "light"
     },
     "output_type": "display_data"
    }
   ],
   "source": [
    "# [MaritalStatus에 따른 계약률(구매전환률)]\n",
    "\n",
    "# MaritalStatus는 Single, Unmarried, Divorced, Married로 나뉨 -> 미혼상태/기혼상태로 라벨인코딩\n",
    "\n",
    "# Single/Unmarried/Divorced -> 미혼 \n",
    "# Married -> 기혼\n",
    "\n",
    "삼십대후반제외 = train[train['Age_category'].isin([1,2,3,5,6,7])] # 30대 후반을 제외\n",
    "cross = pd.crosstab( 삼십대후반제외['ProdTaken'], 삼십대후반제외['MaritalStatus_3'])  \n",
    "print('[MaritalStatus에 따른 평균 계약률 (30대 후반 그룹 제외)]')\n",
    "df_삼십대후반제외 = round((cross/cross.sum()).loc[1:1]*100,1).rename(index={1:'계약률(%)'})\n",
    "\n",
    "\n",
    "# 30대 후반 그룹을 제외하면, 미혼 상태 그룹(Single/Unmarried/Divorced)이 기혼 상태 (Married) 그룹에 비해 계약률이 1.8배 정도 높게 나타난다.\n",
    "plt.figure(figsize=(5,5))\n",
    "df_삼십대후반제외2 = df_삼십대후반제외.T.reset_index()\n",
    "ax = sns.barplot(data=df_삼십대후반제외2,  x='MaritalStatus_3', y='계약률(%)',palette='Set3')\n",
    "write_percent_2(ax, 1)\n",
    "df_삼십대후반제외"
   ]
  },
  {
   "cell_type": "markdown",
   "id": "7ceecb35",
   "metadata": {},
   "source": [
    "평균적으로 미혼 그룹의 계약률이 기혼 그룹의 약 1.8배 정도 높다"
   ]
  },
  {
   "cell_type": "code",
   "execution_count": 155,
   "id": "0cb5e0b3",
   "metadata": {},
   "outputs": [
    {
     "data": {
      "text/html": [
       "<div>\n",
       "<style scoped>\n",
       "    .dataframe tbody tr th:only-of-type {\n",
       "        vertical-align: middle;\n",
       "    }\n",
       "\n",
       "    .dataframe tbody tr th {\n",
       "        vertical-align: top;\n",
       "    }\n",
       "\n",
       "    .dataframe thead th {\n",
       "        text-align: right;\n",
       "    }\n",
       "</style>\n",
       "<table border=\"1\" class=\"dataframe\">\n",
       "  <thead>\n",
       "    <tr style=\"text-align: right;\">\n",
       "      <th></th>\n",
       "      <th>20~24세</th>\n",
       "      <th>25~29세</th>\n",
       "      <th>30~34세</th>\n",
       "      <th>35세~39세</th>\n",
       "      <th>40~44세</th>\n",
       "      <th>45~49세</th>\n",
       "      <th>50~54세</th>\n",
       "    </tr>\n",
       "    <tr>\n",
       "      <th>결혼상태</th>\n",
       "      <th></th>\n",
       "      <th></th>\n",
       "      <th></th>\n",
       "      <th></th>\n",
       "      <th></th>\n",
       "      <th></th>\n",
       "      <th></th>\n",
       "    </tr>\n",
       "  </thead>\n",
       "  <tbody>\n",
       "    <tr>\n",
       "      <th>기혼</th>\n",
       "      <td>27.9</td>\n",
       "      <td>20.8</td>\n",
       "      <td>13.1</td>\n",
       "      <td>12.2</td>\n",
       "      <td>12.9</td>\n",
       "      <td>11.8</td>\n",
       "      <td>13.3</td>\n",
       "    </tr>\n",
       "    <tr>\n",
       "      <th>미혼</th>\n",
       "      <td>48.0</td>\n",
       "      <td>34.5</td>\n",
       "      <td>28.0</td>\n",
       "      <td>10.3</td>\n",
       "      <td>19.2</td>\n",
       "      <td>15.6</td>\n",
       "      <td>16.0</td>\n",
       "    </tr>\n",
       "  </tbody>\n",
       "</table>\n",
       "</div>"
      ],
      "text/plain": [
       "      20~24세  25~29세  30~34세  35세~39세  40~44세  45~49세  50~54세\n",
       "결혼상태                                                         \n",
       "기혼      27.9    20.8    13.1     12.2    12.9    11.8    13.3\n",
       "미혼      48.0    34.5    28.0     10.3    19.2    15.6    16.0"
      ]
     },
     "execution_count": 155,
     "metadata": {},
     "output_type": "execute_result"
    },
    {
     "data": {
      "image/png": "[encoded data removed]",
      "text/plain": [
       "<Figure size 720x504 with 1 Axes>"
      ]
     },
     "metadata": {
      "needs_background": "light"
     },
     "output_type": "display_data"
    }
   ],
   "source": [
    "# [ 나이대별 MaritalStatus에 따른 계약률 차이 ]\n",
    "data=pd.DataFrame()\n",
    "for i in [1,2,3,4,5,6,7]:\n",
    "             df = train.loc[train['Age_category']==i,:]\n",
    "             cross = pd.crosstab(df['MaritalStatus_3'],df['ProdTaken'])\n",
    "             a=round((cross.T/cross.sum(axis=1)).iloc[1]*100,1).rename(index={1:'계약률(%)'}).to_list()\n",
    "             data[i]=a\n",
    "\n",
    "data['결혼상태'] = ['기혼','미혼']\n",
    "data.columns = ['20~24세','25~29세','30~34세','35세~39세', '40~44세','45~49세', '50~54세', '결혼상태']\n",
    "df_계약률 = pd.melt(data, id_vars='결혼상태', var_name='나이대', value_name='계약률')\n",
    "df_계약률\n",
    "plt.figure(figsize=(10,7))\n",
    "plt.xlabel('나이대',fontsize=14)\n",
    "plt.ylabel('계약률(%)',fontsize=14)\n",
    "plt.xticks(fontsize=14)\n",
    "plt.title('나이대별 결혼상태에 따른 계약률 차이', fontsize=18)\n",
    "ax = sns.barplot(data = df_계약률, x='나이대', y='계약률', hue='결혼상태', palette='Set3')\n",
    "write_percent_2(ax, 1)\n",
    "data.set_index('결혼상태')\n"
   ]
  },
  {
   "cell_type": "markdown",
   "id": "753f6adf",
   "metadata": {},
   "source": [
    "#### 문제점 : \n",
    "* 30대 후반 그룹만 유독, 미혼 그룹의 계약률이 기혼 그룹보다 떨어지는 것을 확인할 수 있다.\n",
    "  (평균적으로 미혼 그룹의 계약률이 기혼 그룹의 약 1.8배 정도 높다)\n",
    "* 미혼, 기혼 그룹 계약률의 평균적인 경향성을 고려하였을 때, 30대 후반 미혼 그룹의 계약률을 끌어 올릴 수 있는 가능성이 있다고 생각한다."
   ]
  },
  {
   "cell_type": "markdown",
   "id": "3eb803a2",
   "metadata": {},
   "source": [
    "#### 제안\n",
    "* 추가 조사를 통해 30대 후반 미혼 그룹 계약률이 낮은 이유를 구체적으로 파악하여 해결 방안을 찾을 것을 제안한다.\n",
    "(**이 데이터셋을 가지고는 구체적 원인 파악에 한계가 있음) "
   ]
  },
  {
   "cell_type": "markdown",
   "id": "7d97cfa3",
   "metadata": {},
   "source": []
  },
  {
   "cell_type": "markdown",
   "id": "c511cc1d",
   "metadata": {},
   "source": [
    "#### 고객 데이터 분석 결론 2\n",
    "* 방문 고객 수는 많지만 구매전환률이 낮은 30대 후반 고객층의 계약률을 높일 수 있는 인사이트 제안\n",
    "-> 평균적으로 미혼 그룹의 계약률이 기혼 그룹의 약 1.8배 정도 높은데 비해, 유독, 30대 후반 미혼 고객의 구매전환률만 기혼 고객보다 낮은 것이 파악됐다. \n",
    "-> 30대 후반 미혼 그룹에만 나타나는 문제의 원인을 파악하여 해결하는 것을 제안\n"
   ]
  },
  {
   "cell_type": "code",
   "execution_count": null,
   "id": "5c129ec7",
   "metadata": {},
   "outputs": [],
   "source": []
  },
  {
   "cell_type": "code",
   "execution_count": null,
   "id": "f965d7ce",
   "metadata": {},
   "outputs": [],
   "source": []
  },
  {
   "cell_type": "markdown",
   "id": "d1d4c9f9",
   "metadata": {},
   "source": [
    "#### 3 영업 데이터 분석 및 비지니스 과제 도출   \n",
    "#### 3-1    영업 관련 데이터 분석 "
   ]
  },
  {
   "cell_type": "code",
   "execution_count": 156,
   "id": "228e0802",
   "metadata": {},
   "outputs": [],
   "source": [
    "# TypeofContact 교차분석\n",
    "\n",
    "# 카이제곱 독립성 검정 (범주형 혹은 명목형 변수 2개에 대한 개수 값이 필요함)\n",
    "\n",
    "#h0 : 두 변수가 관련성이 없다.\n",
    "#h1 : 두 변수가 관련성이 있다. \n",
    "    \n",
    "# 두 변수 수준들의 각 조합에 대해 최소 5개의 기대값이 필요함\n",
    "# 조합별 기대값이 5개 미만이면 검정 결과를 신뢰할 수 없음\n",
    "\n",
    "import matplotlib.gridspec as gridspec\n",
    "import scipy.stats as stats\n",
    "from scipy.stats import chi2_contingency"
   ]
  },
  {
   "cell_type": "code",
   "execution_count": 157,
   "id": "cc17a19d",
   "metadata": {},
   "outputs": [
    {
     "name": "stdout",
     "output_type": "stream",
     "text": [
      "\n",
      "TypeofContact\n",
      "Company Invited    22.7\n",
      "Self Enquiry       17.9\n",
      "dtype: float64\n",
      "0.0003791808\n",
      "\n",
      "NumberOfFollowups\n",
      "1.0    13.2\n",
      "2.0    10.2\n",
      "3.0    16.8\n",
      "4.0    19.0\n",
      "5.0    24.9\n",
      "6.0    39.5\n",
      "dtype: float64\n",
      "0.0\n",
      "\n",
      "PitchSatisfactionScore\n",
      "1    15.7\n",
      "2    15.6\n",
      "3    21.8\n",
      "4    18.8\n",
      "5    21.9\n",
      "dtype: float64\n",
      "0.0005044398\n",
      "\n",
      "ProductPitched\n",
      "Basic           30.0\n",
      "Deluxe          11.6\n",
      "King             8.7\n",
      "Standard        16.1\n",
      "Super Deluxe     7.6\n",
      "dtype: float64\n",
      "0.0\n",
      "\n",
      "DurationOfPitch(주별)\n",
      "0.0    13.5\n",
      "1.0    16.9\n",
      "2.0    19.8\n",
      "3.0    22.3\n",
      "4.0    28.4\n",
      "5.0    17.2\n",
      "dtype: float64\n",
      "2.077e-07\n",
      "pass : []\n"
     ]
    }
   ],
   "source": [
    "# 서비스 관련 변수들로, 계약률이 어떻게 달라지는지 확인해본다. \n",
    "\n",
    "cols = [ 'TypeofContact', 'NumberOfFollowups', 'PitchSatisfactionScore','ProductPitched','DurationOfPitch(주별)']\n",
    "li=[]\n",
    "\n",
    "for x in cols :\n",
    "    chi2, p, dof, expected_ = chi2_contingency( pd.crosstab(train[x],train['ProdTaken']))\n",
    "    if p > 0.05:\n",
    "        li.append(x)\n",
    "    else :\n",
    "        실제 = pd.crosstab(train[x],train['ProdTaken']).rename(columns = {0:'실제_0',1:'실제_1'})\n",
    "        예상 = pd.DataFrame(expected_,columns=['예상_0','예상_1'])\n",
    "        pd.concat([예상,실제], 1)\n",
    "        expected_rate = round((예상['예상_1']/예상.sum(axis=1)).values[0]*100,1)\n",
    "        print()\n",
    "        print(round(실제['실제_1']/실제.sum(axis=1)*100,1))\n",
    "        print(round(p,10))\n",
    "print(f'pass : {li}')   \n",
    "\n",
    "\n"
   ]
  },
  {
   "cell_type": "code",
   "execution_count": 158,
   "id": "b6ed95fa",
   "metadata": {},
   "outputs": [
    {
     "name": "stdout",
     "output_type": "stream",
     "text": [
      "chi2 statistic:  12.632090817468232\n",
      "p value:  0.0003791808406656593\n"
     ]
    },
    {
     "data": {
      "text/html": [
       "<div>\n",
       "<style scoped>\n",
       "    .dataframe tbody tr th:only-of-type {\n",
       "        vertical-align: middle;\n",
       "    }\n",
       "\n",
       "    .dataframe tbody tr th {\n",
       "        vertical-align: top;\n",
       "    }\n",
       "\n",
       "    .dataframe thead tr th {\n",
       "        text-align: left;\n",
       "    }\n",
       "</style>\n",
       "<table border=\"1\" class=\"dataframe\">\n",
       "  <thead>\n",
       "    <tr>\n",
       "      <th></th>\n",
       "      <th colspan=\"3\" halign=\"left\">예상</th>\n",
       "      <th colspan=\"3\" halign=\"left\">실제</th>\n",
       "    </tr>\n",
       "    <tr>\n",
       "      <th></th>\n",
       "      <th>미계약(건)</th>\n",
       "      <th>계약(건)</th>\n",
       "      <th>계약률(%)</th>\n",
       "      <th>미계약(건)</th>\n",
       "      <th>계약(건)</th>\n",
       "      <th>계약률(%)</th>\n",
       "    </tr>\n",
       "  </thead>\n",
       "  <tbody>\n",
       "    <tr>\n",
       "      <th>Company Invited</th>\n",
       "      <td>976</td>\n",
       "      <td>233</td>\n",
       "      <td>19.3</td>\n",
       "      <td>934</td>\n",
       "      <td>275</td>\n",
       "      <td>22.7</td>\n",
       "    </tr>\n",
       "    <tr>\n",
       "      <th>Self Enquiry</th>\n",
       "      <td>2354</td>\n",
       "      <td>564</td>\n",
       "      <td>19.3</td>\n",
       "      <td>2396</td>\n",
       "      <td>522</td>\n",
       "      <td>17.9</td>\n",
       "    </tr>\n",
       "  </tbody>\n",
       "</table>\n",
       "</div>"
      ],
      "text/plain": [
       "                    예상                  실제             \n",
       "                미계약(건) 계약(건) 계약률(%) 미계약(건) 계약(건) 계약률(%)\n",
       "Company Invited    976   233   19.3    934   275   22.7\n",
       "Self Enquiry      2354   564   19.3   2396   522   17.9"
      ]
     },
     "execution_count": 158,
     "metadata": {},
     "output_type": "execute_result"
    }
   ],
   "source": [
    "# 카이제곱 분석을 통해, 고객의 제품 인지 방법(Type of Contact)과 계약 여부(Prod Taken) 변수간의 관련성 파악\n",
    "\n",
    "# Type of Contact : 고객의 제품 인지 방법 (회사의 홍보 or 스스로 검색)\n",
    "# Prod Taken : 계약 여부 (계약 완료 or 미계약)\n",
    "\n",
    "chi2, p, dof, expected_ = chi2_contingency( pd.crosstab(train['TypeofContact'],train['ProdTaken']))\n",
    "print('chi2 statistic: ', chi2)\n",
    "print('p value: ', p)\n",
    "\n",
    "실제 = pd.crosstab(train['TypeofContact'],train['ProdTaken'])\n",
    "실제.columns = [['실제','실제'],['미계약(건)','계약(건)']]\n",
    "예상 = pd.DataFrame(expected_, index=['Company Invited','Self Enquiry'],columns=[['예상','예상'],['미계약(건)','계약(건)']]).applymap(lambda x : round(x))\n",
    "실계약률 = pd.DataFrame(round(실제['실제','계약(건)']/실제.sum(axis=1),3)*100, columns=[['실제'],['계약률(%)']])\n",
    "예상계약률 = pd.DataFrame(round(예상['예상','계약(건)']/예상.sum(axis=1),3)*100, columns=[['예상'],['계약률(%)']])\n",
    "\n",
    "pd.concat([예상,예상계약률,실제,실계약률], 1)\n"
   ]
  },
  {
   "cell_type": "markdown",
   "id": "576919cc",
   "metadata": {},
   "source": [
    "* 카이제곱 분석 결과 p-value 가 0.05이하로, Type of Contact는 여행상품 신청에 영향을 미친다고 볼 수 있다.\n",
    "\n",
    "* 고객이 스스로 검색하여 유입된 경우에 비해, 회사의 홍보/영업으로 유입된 고객의 여행상품 계약률이 약 5% 정도 높게 나타난다.\n"
   ]
  },
  {
   "cell_type": "code",
   "execution_count": 159,
   "id": "d0c4022f",
   "metadata": {
    "scrolled": false
   },
   "outputs": [
    {
     "data": {
      "text/html": [
       "<div>\n",
       "<style scoped>\n",
       "    .dataframe tbody tr th:only-of-type {\n",
       "        vertical-align: middle;\n",
       "    }\n",
       "\n",
       "    .dataframe tbody tr th {\n",
       "        vertical-align: top;\n",
       "    }\n",
       "\n",
       "    .dataframe thead th {\n",
       "        text-align: right;\n",
       "    }\n",
       "</style>\n",
       "<table border=\"1\" class=\"dataframe\">\n",
       "  <thead>\n",
       "    <tr style=\"text-align: right;\">\n",
       "      <th>NumberOfFollowups</th>\n",
       "      <th>1.0</th>\n",
       "      <th>2.0</th>\n",
       "      <th>3.0</th>\n",
       "      <th>4.0</th>\n",
       "      <th>5.0</th>\n",
       "      <th>6.0</th>\n",
       "    </tr>\n",
       "  </thead>\n",
       "  <tbody>\n",
       "    <tr>\n",
       "      <th>계약률(%)</th>\n",
       "      <td>13.2</td>\n",
       "      <td>10.2</td>\n",
       "      <td>16.8</td>\n",
       "      <td>19.0</td>\n",
       "      <td>24.9</td>\n",
       "      <td>39.5</td>\n",
       "    </tr>\n",
       "  </tbody>\n",
       "</table>\n",
       "</div>"
      ],
      "text/plain": [
       "NumberOfFollowups   1.0   2.0   3.0   4.0   5.0   6.0\n",
       "계약률(%)             13.2  10.2  16.8  19.0  24.9  39.5"
      ]
     },
     "execution_count": 159,
     "metadata": {},
     "output_type": "execute_result"
    },
    {
     "data": {
      "image/png": "[encoded data removed]",
      "text/plain": [
       "<Figure size 432x288 with 1 Axes>"
      ]
     },
     "metadata": {
      "needs_background": "light"
     },
     "output_type": "display_data"
    }
   ],
   "source": [
    "# 영업 사원의 Followups수에 따른 계약률 변화\n",
    "\n",
    "cross = pd.crosstab(train['NumberOfFollowups'] , train['ProdTaken'])\n",
    "계약률 = pd.DataFrame(round(cross[1]/cross.sum(axis=1),3)*100).rename(columns={0:'계약률(%)'})\n",
    "\n",
    "\n",
    "plt.plot(pd.DataFrame(round(cross[1]/cross.sum(axis=1),3)*100))\n",
    "plt.title('영업 사원의 Followups수에 따른 계약률 변화', fontsize=15)\n",
    "plt.xlabel('Followups수')\n",
    "plt.ylabel('계약률(%)')\n",
    "계약률.T"
   ]
  },
  {
   "cell_type": "markdown",
   "id": "f424ddbd",
   "metadata": {},
   "source": [
    "   * 영업사원의 followup이 2회일 때 가장 계약률이 낮고, 3~6회까지 followup이 많아질 수록 계약률이 상승했다.\n",
    "##### 고객이 2번째 followup 때 계약을 하지 않으면  신속히 다른 상품을 추천하는 등 추가 followup을 해야할 필요성이 있을 것으로 보인다."
   ]
  },
  {
   "cell_type": "code",
   "execution_count": 160,
   "id": "7be127b5",
   "metadata": {},
   "outputs": [
    {
     "data": {
      "text/plain": [
       "<AxesSubplot:>"
      ]
     },
     "execution_count": 160,
     "metadata": {},
     "output_type": "execute_result"
    },
    {
     "data": {
      "image/png": "[encoded data removed]",
      "text/plain": [
       "<Figure size 288x288 with 2 Axes>"
      ]
     },
     "metadata": {
      "needs_background": "light"
     },
     "output_type": "display_data"
    }
   ],
   "source": [
    "# [소득과 여행 추천 상품, 여행 상품 신청률과의 관계]\n",
    "\n",
    "# 상품등급 라벨인코딩\n",
    " #'Basic'-> 1\n",
    " #'Standard'-> 2\n",
    " #'Deluxe'->3\n",
    " #'Super Deluxe'->4\n",
    " #'King'->5 \n",
    "    \n",
    "    \n",
    "corr= train[['MonthlyIncome_le','ProductPitched_le']].corr()\n",
    "\n",
    "plt.rcParams['figure.figsize'] = [4, 4]\n",
    "sns.heatmap(corr, annot= True)"
   ]
  },
  {
   "cell_type": "markdown",
   "id": "b1e730eb",
   "metadata": {},
   "source": [
    "고객의 소득이 증가함에 따라 영업사원의 추천 상품 등급도 상향되는 상관관계를 갖는다. (상관계수: 0.6)\n"
   ]
  },
  {
   "cell_type": "code",
   "execution_count": 161,
   "id": "c9df6a76",
   "metadata": {
    "scrolled": true
   },
   "outputs": [
    {
     "data": {
      "text/html": [
       "<div>\n",
       "<style scoped>\n",
       "    .dataframe tbody tr th:only-of-type {\n",
       "        vertical-align: middle;\n",
       "    }\n",
       "\n",
       "    .dataframe tbody tr th {\n",
       "        vertical-align: top;\n",
       "    }\n",
       "\n",
       "    .dataframe thead tr th {\n",
       "        text-align: left;\n",
       "    }\n",
       "\n",
       "    .dataframe thead tr:last-of-type th {\n",
       "        text-align: right;\n",
       "    }\n",
       "</style>\n",
       "<table border=\"1\" class=\"dataframe\">\n",
       "  <thead>\n",
       "    <tr>\n",
       "      <th></th>\n",
       "      <th colspan=\"2\" halign=\"left\">계약고객</th>\n",
       "      <th colspan=\"2\" halign=\"left\">미계약고객</th>\n",
       "    </tr>\n",
       "    <tr>\n",
       "      <th></th>\n",
       "      <th>추천상품등급</th>\n",
       "      <th>추천만족도</th>\n",
       "      <th>추천상품등급</th>\n",
       "      <th>추천만족도</th>\n",
       "    </tr>\n",
       "    <tr>\n",
       "      <th>MonthlyIncome_le</th>\n",
       "      <th></th>\n",
       "      <th></th>\n",
       "      <th></th>\n",
       "      <th></th>\n",
       "    </tr>\n",
       "  </thead>\n",
       "  <tbody>\n",
       "    <tr>\n",
       "      <th>0</th>\n",
       "      <td>1.100457</td>\n",
       "      <td>3.168950</td>\n",
       "      <td>1.153989</td>\n",
       "      <td>3.031540</td>\n",
       "    </tr>\n",
       "    <tr>\n",
       "      <th>1</th>\n",
       "      <td>1.434932</td>\n",
       "      <td>3.119863</td>\n",
       "      <td>1.896254</td>\n",
       "      <td>2.987512</td>\n",
       "    </tr>\n",
       "    <tr>\n",
       "      <th>2</th>\n",
       "      <td>2.305970</td>\n",
       "      <td>3.320896</td>\n",
       "      <td>2.656331</td>\n",
       "      <td>3.038760</td>\n",
       "    </tr>\n",
       "    <tr>\n",
       "      <th>3</th>\n",
       "      <td>2.212121</td>\n",
       "      <td>3.181818</td>\n",
       "      <td>2.453368</td>\n",
       "      <td>2.898964</td>\n",
       "    </tr>\n",
       "    <tr>\n",
       "      <th>4</th>\n",
       "      <td>2.405405</td>\n",
       "      <td>3.621622</td>\n",
       "      <td>2.604651</td>\n",
       "      <td>3.104651</td>\n",
       "    </tr>\n",
       "    <tr>\n",
       "      <th>5</th>\n",
       "      <td>2.755102</td>\n",
       "      <td>3.285714</td>\n",
       "      <td>3.559809</td>\n",
       "      <td>3.181818</td>\n",
       "    </tr>\n",
       "  </tbody>\n",
       "</table>\n",
       "</div>"
      ],
      "text/plain": [
       "                      계약고객               미계약고객          \n",
       "                    추천상품등급     추천만족도    추천상품등급     추천만족도\n",
       "MonthlyIncome_le                                        \n",
       "0                 1.100457  3.168950  1.153989  3.031540\n",
       "1                 1.434932  3.119863  1.896254  2.987512\n",
       "2                 2.305970  3.320896  2.656331  3.038760\n",
       "3                 2.212121  3.181818  2.453368  2.898964\n",
       "4                 2.405405  3.621622  2.604651  3.104651\n",
       "5                 2.755102  3.285714  3.559809  3.181818"
      ]
     },
     "execution_count": 161,
     "metadata": {},
     "output_type": "execute_result"
    }
   ],
   "source": [
    "# [영업사원의 상품 추천 관련] \n",
    "\n",
    "df_ProdTaken = train[train['ProdTaken']==1]\n",
    "df_ProdUntaken = train[train['ProdTaken']==0]\n",
    "\n",
    "a = pd.pivot_table(df_ProdTaken, index=['MonthlyIncome_le'], values = ['ProductPitched_le','PitchSatisfactionScore'], aggfunc = [sum, len])\n",
    "b = pd.pivot_table(df_ProdUntaken, index=['MonthlyIncome_le'], values = ['ProductPitched_le','PitchSatisfactionScore'], aggfunc = [sum, len])\n",
    "df_추천만족도 = pd.concat( [a[('sum', 'ProductPitched_le')]/a[('len', 'ProductPitched_le')], a[('sum', 'PitchSatisfactionScore')]/a[('len', 'PitchSatisfactionScore')],\n",
    "                        b[('sum', 'ProductPitched_le')]/b[('len', 'ProductPitched_le')],b[('sum', 'PitchSatisfactionScore')]/b[('len', 'PitchSatisfactionScore')]],1) \n",
    "\n",
    "\n",
    "df_추천만족도.columns =[['계약고객','계약고객','미계약고객','미계약고객'],['추천상품등급','추천만족도','추천상품등급','추천만족도']]\n",
    "df_추천만족도\n",
    "\n"
   ]
  },
  {
   "cell_type": "markdown",
   "id": "7134a597",
   "metadata": {},
   "source": [
    "#### 소득과 여행 추천 상품, 여행 상품 신청률과의 관계\n",
    "\n",
    "여행 상품을 신청한 계약 고객(ProdTaken=1)은     \n",
    "여행 상품을 신청하지 않은 미계약 고객(ProdTaken=0)에 비해서        \n",
    "영업 직원으로부터 추천받은 상품의 평균 등급(ProductPitched) 낮고,     \n",
    "추천 만족도(PitchSatisfactionScore)는 높은 것을 확인할 수 있다.     \n",
    "\n",
    " \n",
    "-> 영업사원에게 어떤 상품을 추천받는가가 고객 계약 여부에 영향을 미칠 수 있다."
   ]
  },
  {
   "cell_type": "code",
   "execution_count": 165,
   "id": "11ae8f88",
   "metadata": {},
   "outputs": [
    {
     "data": {
      "image/png": "[encoded data removed]",
      "text/plain": [
       "<Figure size 1080x1080 with 2 Axes>"
      ]
     },
     "metadata": {
      "needs_background": "light"
     },
     "output_type": "display_data"
    }
   ],
   "source": [
    "# 소득 구분별 선호도와 추천 상품 비율을 확인하기위한 시각화\n",
    "\n",
    "plt.figure(figsize=(15,15))\n",
    "\n",
    "\n",
    "# 고객 선호도 (%) 그래프 \n",
    "a=[]\n",
    "df= pd.DataFrame(index=['Basic','Standard','Deluxe','Super Deluxe','King']).reset_index().rename(columns={'index':'여행상품등급'})\n",
    "for i in [0,1,2,3,4,5] :\n",
    "    a = (df_ProdTaken.loc[df_ProdTaken['MonthlyIncome_le']==i,'ProductPitched'].value_counts(normalize=True)*100).reset_index()\n",
    "    a.columns = ['여행상품등급',i]\n",
    "    df= pd.merge(df,a,on='여행상품등급',how='left')\n",
    "\n",
    "area1 = plt.subplot(2,1,1)\n",
    "df2 = pd.melt(df, id_vars='여행상품등급', var_name='소득등급',value_name='선호도(%)')\n",
    "df2 = df2.fillna(0)\n",
    "ax1 = sns.barplot(data=df2, x='소득등급', y='선호도(%)', hue='여행상품등급', ax=area1, palette='Pastel1')\n",
    "write_percent_2(ax1, 1)\n",
    "plt.title('소득별 고객의 여행상품 선호도(%)', fontsize=20)\n",
    "plt.ylabel('선호도(%)', fontsize=13)\n",
    "\n",
    "\n",
    "# 영원사원 추천상품 (%) 그래프 \n",
    "a=[]\n",
    "df= pd.DataFrame(index=['Basic','Standard','Deluxe','Super Deluxe','King']).reset_index().rename(columns={'index':'여행상품등급'})\n",
    "for i in [0,1,2,3,4,5] :\n",
    "    a = (train.loc[train['MonthlyIncome_le']==i,'ProductPitched'].value_counts(normalize=True)*100).reset_index()\n",
    "    a.columns = ['여행상품등급',i]\n",
    "    df= pd.merge(df,a,on='여행상품등급',how='left')    \n",
    "    \n",
    "    \n",
    "df2 = pd.melt(df, id_vars='여행상품등급', var_name='소득등급',value_name='영업사원 추천상품(%)')\n",
    "df2 = df2.fillna(0)\n",
    "\n",
    "area2 = plt.subplot(2,1,2)\n",
    "ax2 = sns.barplot(data=df2, x='소득등급', y='영업사원 추천상품(%)', hue='여행상품등급', ax=area2, palette='Pastel1')\n",
    "plt.title('소득별 여행상품 추천 비율(%)', fontsize=20)\n",
    "write_percent_2(ax2, 1)\n"
   ]
  },
  {
   "cell_type": "markdown",
   "id": "bbad9081",
   "metadata": {},
   "source": [
    "\n",
    "##### 소득대별로, 상품 선호도와 실제 고객이 추천받은 상품을 비교했을 때,     \n",
    "##### 고객의 실제 선호보다 다소 높은 등급의 상품을 추천하는 경향이 보인다.\n",
    "##### \n",
    "\n",
    "* 예시 | 소득 1분위 그룹   \n",
    "     .\n",
    "* 상품 등급이 낮은 상품은 상대적으로 추천 비율이 낮다.         \n",
    "(베이직 상품 선호도는 76.7%, 베이직 상품 추천은 58.7%)   \n",
    ".     \n",
    "* 상품 등급이 높은 상품은 상대적으로 추천 비율이 높다.     \n",
    "(디럭스 상품 선호도는 18.5%, 디럭스 상품 추천은 37.7%)"
   ]
  },
  {
   "cell_type": "markdown",
   "id": "d26dabe4",
   "metadata": {},
   "source": [
    "#### 3-2    비지니스 과제 도출    "
   ]
  },
  {
   "cell_type": "markdown",
   "id": "f7be2d09",
   "metadata": {},
   "source": [
    "#### 문제\n",
    "\n",
    "* 현재 영업사원 추천 상품 등급과 고객 선호 등급이 일치하지 않는 경우가 있는 것으로 보인다.(추천 등급이 다소 높은 경향) \n",
    "\n",
    "#### 제안\n",
    "* 수요 예측 알고리즘을 만들어 고객의 수요를 기반으로 추천할 수 있도록 해야한다."
   ]
  },
  {
   "cell_type": "code",
   "execution_count": null,
   "id": "bfe15e57",
   "metadata": {},
   "outputs": [],
   "source": []
  },
  {
   "cell_type": "markdown",
   "id": "8793b338",
   "metadata": {},
   "source": [
    "#### 3-3 영업 시 활용 가능한 상품 예측 모델 개발"
   ]
  },
  {
   "cell_type": "markdown",
   "id": "ce901632",
   "metadata": {},
   "source": [
    "#### 3-3-1 데이터 준비"
   ]
  },
  {
   "cell_type": "code",
   "execution_count": 218,
   "id": "6b9e6aad",
   "metadata": {},
   "outputs": [],
   "source": [
    "# 계약 고객(ProdTaken==1)의 데이터를 train data로 사용해, 예측 모델을 만든다. \n",
    "# 미계약 고객의 데이터를 test data로 사용하여, 미계약 고객에게 어떤 상품을 추천했어야 하는지 알아보도록 한다.\n",
    "df_ProdTaken = train[train['ProdTaken']==1]\n",
    "df_ProdUntaken = train[train['ProdTaken']==0]\n",
    "\n",
    "X_train = df_ProdTaken.drop(['ProdTaken','ProductPitched_le', 'PitchSatisfactionScore', 'TypeofContact_le','DurationOfPitch','NumberOfFollowups','DurationOfPitch(주별)'],1) \n",
    "Y_train = df_ProdTaken['ProductPitched_le']\n",
    "\n",
    "# 영업사원에 추천에 필요한 고객 상품 수요 예측이기 때문에 고객 관련 데이터만 남긴다.\n",
    "test = df_ProdUntaken.drop(['ProdTaken','ProductPitched_le', 'PitchSatisfactionScore', 'TypeofContact_le','DurationOfPitch','NumberOfFollowups','DurationOfPitch(주별)'],1) \n"
   ]
  },
  {
   "cell_type": "code",
   "execution_count": 219,
   "id": "33e2173d",
   "metadata": {},
   "outputs": [],
   "source": [
    "# 라벨 인코딩 \n",
    "from sklearn.preprocessing import LabelEncoder\n",
    "for i in ['Occupation', 'MaritalStatus'] :\n",
    "    le = LabelEncoder()\n",
    "    X_train[i] = le.fit_transform(X_train[i])\n",
    "    test[i] = le.transform(test[i])"
   ]
  },
  {
   "cell_type": "code",
   "execution_count": 168,
   "id": "0dbcb28a",
   "metadata": {},
   "outputs": [],
   "source": [
    "# 나머지 필요없는 컬럼 및 문자 컬럼은 drop +  월 소득은 민감한 정보이기 때문에, 삭제하고 모델링을 해본다.\n",
    "\n",
    "df_train = X_train.drop(['MonthlyIncome', 'Designation','MonthlyIncome_le', 'Age','TypeofContact', 'ProductPitched', 'MaritalStatus_3', 'Age_category_2', 'NumberOfTrips_le','계약여부'],1).reset_index(drop=True)\n",
    "df_test = test.drop(['MonthlyIncome', 'Designation', 'MonthlyIncome_le', 'Age','TypeofContact', 'ProductPitched', 'MaritalStatus_3', 'Age_category_2','NumberOfTrips_le','계약여부'],1).reset_index(drop=True)\n",
    "Y_train = Y_train.reset_index(drop=True)"
   ]
  },
  {
   "cell_type": "markdown",
   "id": "86e16e4f",
   "metadata": {},
   "source": [
    "#### 3-3-2 모델링"
   ]
  },
  {
   "cell_type": "code",
   "execution_count": 182,
   "id": "a57d8d7d",
   "metadata": {},
   "outputs": [
    {
     "name": "stdout",
     "output_type": "stream",
     "text": [
      "튜닝 전 score\n",
      "f1_score: 0.994\n",
      "accuracy_score : 0.995\n"
     ]
    }
   ],
   "source": [
    "# 렌덤 포레스트 default상태로 모델 생성 결과 \n",
    "from sklearn.ensemble import RandomForestClassifier\n",
    "from sklearn.metrics import mean_absolute_error , f1_score, accuracy_score, mean_squared_error \n",
    "\n",
    "\n",
    "from sklearn.model_selection import train_test_split\n",
    "x_train, x_valid, y_train, y_valid = train_test_split(df_train, Y_train, stratify=Y_train, random_state=1234)\n",
    "\n",
    "\n",
    "# 평가 지표 NMAE\n",
    "rfc = RandomForestClassifier(random_state=42)\n",
    "model = rfc.fit(x_train, y_train)\n",
    "pred = model.predict(x_valid)\n",
    "result = f1_score(y_valid, pred, average='weighted')\n",
    "print('튜닝 전 score')\n",
    "print( f'f1_score: {round(result,3)}')\n",
    "print( f'accuracy_score : {accuracy_score(y_valid, pred)}')"
   ]
  },
  {
   "cell_type": "code",
   "execution_count": 172,
   "id": "4622d1b1",
   "metadata": {
    "scrolled": true
   },
   "outputs": [
    {
     "name": "stderr",
     "output_type": "stream",
     "text": [
      "\u001b[32m[I 2023-02-13 05:03:30,954]\u001b[0m A new study created in memory with name: lgbm_parameter_opt\u001b[0m\n",
      "\u001b[32m[I 2023-02-13 05:03:32,892]\u001b[0m Trial 0 finished with value: 0.9986437342232491 and parameters: {'random_state': 64, 'n_jobs': 193, 'max_depth': 9}. Best is trial 0 with value: 0.9986437342232491.\u001b[0m\n",
      "\u001b[32m[I 2023-02-13 05:03:34,649]\u001b[0m Trial 1 finished with value: 0.9789473305674472 and parameters: {'random_state': 77, 'n_jobs': 73, 'max_depth': 5}. Best is trial 0 with value: 0.9986437342232491.\u001b[0m\n",
      "\u001b[32m[I 2023-02-13 05:03:36,495]\u001b[0m Trial 2 finished with value: 1.0 and parameters: {'random_state': 45, 'n_jobs': 180, 'max_depth': 8}. Best is trial 2 with value: 1.0.\u001b[0m\n",
      "\u001b[32m[I 2023-02-13 05:03:38,174]\u001b[0m Trial 3 finished with value: 0.9986805555555556 and parameters: {'random_state': 83, 'n_jobs': 53, 'max_depth': 10}. Best is trial 2 with value: 1.0.\u001b[0m\n",
      "\u001b[32m[I 2023-02-13 05:03:39,884]\u001b[0m Trial 4 finished with value: 0.9947165800282377 and parameters: {'random_state': 91, 'n_jobs': 82, 'max_depth': 6}. Best is trial 2 with value: 1.0.\u001b[0m\n",
      "\u001b[32m[I 2023-02-13 05:03:41,671]\u001b[0m Trial 5 finished with value: 0.9986805555555556 and parameters: {'random_state': 52, 'n_jobs': 95, 'max_depth': 8}. Best is trial 2 with value: 1.0.\u001b[0m\n",
      "\u001b[32m[I 2023-02-13 05:03:43,475]\u001b[0m Trial 6 finished with value: 0.9986805555555556 and parameters: {'random_state': 67, 'n_jobs': 93, 'max_depth': 8}. Best is trial 2 with value: 1.0.\u001b[0m\n",
      "\u001b[32m[I 2023-02-13 05:03:45,263]\u001b[0m Trial 7 finished with value: 0.995562106918239 and parameters: {'random_state': 50, 'n_jobs': 94, 'max_depth': 7}. Best is trial 2 with value: 1.0.\u001b[0m\n",
      "\u001b[32m[I 2023-02-13 05:03:47,147]\u001b[0m Trial 8 finished with value: 0.9902537251233344 and parameters: {'random_state': 68, 'n_jobs': 168, 'max_depth': 6}. Best is trial 2 with value: 1.0.\u001b[0m\n",
      "\u001b[32m[I 2023-02-13 05:03:49,527]\u001b[0m Trial 9 finished with value: 0.9789186065476022 and parameters: {'random_state': 72, 'n_jobs': 139, 'max_depth': 5}. Best is trial 2 with value: 1.0.\u001b[0m\n",
      "\u001b[32m[I 2023-02-13 05:03:51,424]\u001b[0m Trial 10 finished with value: 1.0 and parameters: {'random_state': 43, 'n_jobs': 137, 'max_depth': 10}. Best is trial 2 with value: 1.0.\u001b[0m\n",
      "\u001b[32m[I 2023-02-13 05:03:53,330]\u001b[0m Trial 11 finished with value: 0.9986805555555556 and parameters: {'random_state': 42, 'n_jobs': 139, 'max_depth': 10}. Best is trial 2 with value: 1.0.\u001b[0m\n",
      "\u001b[32m[I 2023-02-13 05:03:55,259]\u001b[0m Trial 12 finished with value: 0.9986805555555556 and parameters: {'random_state': 42, 'n_jobs': 172, 'max_depth': 9}. Best is trial 2 with value: 1.0.\u001b[0m\n",
      "\u001b[32m[I 2023-02-13 05:03:57,146]\u001b[0m Trial 13 finished with value: 1.0 and parameters: {'random_state': 55, 'n_jobs': 158, 'max_depth': 9}. Best is trial 2 with value: 1.0.\u001b[0m\n",
      "\u001b[32m[I 2023-02-13 05:03:59,073]\u001b[0m Trial 14 finished with value: 0.9942657393145937 and parameters: {'random_state': 58, 'n_jobs': 199, 'max_depth': 7}. Best is trial 2 with value: 1.0.\u001b[0m\n",
      "\u001b[32m[I 2023-02-13 05:04:00,991]\u001b[0m Trial 15 finished with value: 1.0 and parameters: {'random_state': 47, 'n_jobs': 114, 'max_depth': 10}. Best is trial 2 with value: 1.0.\u001b[0m\n",
      "\u001b[32m[I 2023-02-13 05:04:02,958]\u001b[0m Trial 16 finished with value: 0.9986805555555556 and parameters: {'random_state': 57, 'n_jobs': 128, 'max_depth': 8}. Best is trial 2 with value: 1.0.\u001b[0m\n",
      "\u001b[32m[I 2023-02-13 05:04:04,935]\u001b[0m Trial 17 finished with value: 0.9986805555555556 and parameters: {'random_state': 59, 'n_jobs': 161, 'max_depth': 9}. Best is trial 2 with value: 1.0.\u001b[0m\n",
      "\u001b[32m[I 2023-02-13 05:04:07,368]\u001b[0m Trial 18 finished with value: 0.9973245628707792 and parameters: {'random_state': 48, 'n_jobs': 113, 'max_depth': 7}. Best is trial 2 with value: 1.0.\u001b[0m\n",
      "\u001b[32m[I 2023-02-13 05:04:09,209]\u001b[0m Trial 19 finished with value: 1.0 and parameters: {'random_state': 100, 'n_jobs': 111, 'max_depth': 10}. Best is trial 2 with value: 1.0.\u001b[0m\n"
     ]
    },
    {
     "name": "stdout",
     "output_type": "stream",
     "text": [
      "Best Score: 1.0\n",
      "Best trial: {'random_state': 45, 'n_jobs': 180, 'max_depth': 8}\n"
     ]
    }
   ],
   "source": [
    "from sklearn.metrics import mean_absolute_error, accuracy_score \n",
    "import optuna\n",
    "import lightgbm as lgb\n",
    "\n",
    "from optuna import Trial\n",
    "from optuna.samplers import TPESampler\n",
    "from lightgbm import LGBMClassifier\n",
    "from sklearn.model_selection import train_test_split,StratifiedKFold\n",
    "from sklearn.metrics import mean_absolute_error , f1_score, accuracy_score, mean_squared_error \n",
    "\n",
    "\n",
    "def objective(trial: Trial) -> float:\n",
    "    k = 0    \n",
    "    cv_f1_score = {} \n",
    "    cv_accuracy ={}\n",
    "    kf = StratifiedKFold(n_splits = 5)\n",
    "    kf_split  = kf.split(df_train, Y_train)    \n",
    "\n",
    "    for train_idx ,valid_idx in kf_split:\n",
    "        x_train = df_train.iloc[ train_idx ]\n",
    "        y_train = Y_train.iloc[ train_idx ]\n",
    "\n",
    "        x_valid = df_train.iloc[ valid_idx ]\n",
    "        y_valid = Y_train.iloc[ valid_idx ]        \n",
    "        k += 1 \n",
    "        \n",
    "        params_lgb = {\n",
    "       \"random_state\" : trial.suggest_int(\"random_state\", 42, 100),\n",
    "       \"n_jobs\": trial.suggest_int(\"n_jobs\", 50, 200),\n",
    "      #  \"objective\": \"multiclass\",\n",
    "      #  \"metric\": \"multi_logloss\",\n",
    "        \"max_depth\": trial.suggest_int(\"max_depth\", 5, 10),\n",
    "      #  \"num_leaves\": trial.suggest_int(\"num_leaves\", 2, 256),\n",
    "      #  \"colsample_bytree\": trial.suggest_float(\"colsample_bytree\", 0.1, 1),\n",
    "      #  \"subsample\": trial.suggest_float(\"subsample\", 0.3, 1.0),\n",
    "      #  \"subsample_freq\": trial.suggest_int(\"subsample_freq\", 1, 10),\n",
    "      # \"min_samples_leaf\": trial.suggest_int(\"min_samples_leaf\", 1, 30)\n",
    "        }\n",
    "    \n",
    "        rfc = RandomForestClassifier(**params_lgb)\n",
    "        model = rfc.fit(x_train, y_train)\n",
    "        pred = model.predict(x_valid)\n",
    "        result1 = f1_score(y_valid, pred, average='weighted')\n",
    "        cv_f1_score[k] = result1\n",
    "        result2 = accuracy_score(y_valid, pred)\n",
    "        cv_accuracy[k]=result2\n",
    "    return (cv_f1_score[1] + cv_f1_score[2] + cv_f1_score[3] + cv_f1_score[4] + cv_f1_score[5] + \n",
    "            cv_accuracy[1] +cv_accuracy[2] +cv_accuracy[3] +cv_accuracy[4] +cv_accuracy[5])/10\n",
    "\n",
    "\n",
    "sampler = TPESampler(seed=42)\n",
    "study = optuna.create_study(\n",
    "    study_name=\"lgbm_parameter_opt\",\n",
    "    direction=\"maximize\",\n",
    "    sampler=sampler\n",
    ")\n",
    "\n",
    "study.optimize(objective, n_trials=20)\n",
    "print(\"Best Score:\", study.best_value)\n",
    "print(\"Best trial:\", study.best_trial.params)\n"
   ]
  },
  {
   "cell_type": "markdown",
   "id": "31313ecf",
   "metadata": {},
   "source": [
    "Optuna 튜닝 결과     \n",
    "* Best Score: 1.0     \n",
    "* Best trial: {'random_state': 45, 'n_jobs': 180, 'max_depth': 8}"
   ]
  },
  {
   "cell_type": "code",
   "execution_count": 175,
   "id": "ae854748",
   "metadata": {},
   "outputs": [
    {
     "name": "stdout",
     "output_type": "stream",
     "text": [
      "튜닝 적용 score\n",
      "f1_score:1.0\n",
      "accuracy_score:1.0\n"
     ]
    }
   ],
   "source": [
    "\n",
    "from sklearn.metrics import mean_absolute_error , f1_score, accuracy_score, mean_squared_error \n",
    "kf = StratifiedKFold(n_splits = 5)\n",
    "kf_split  = kf.split(df_train, Y_train) \n",
    "k = 0    \n",
    "result=0\n",
    "cv_accuracy={}  \n",
    "cv_f1_score={}\n",
    "for train_idx ,valid_idx in kf_split:\n",
    "    x_train = df_train.iloc[ train_idx ]\n",
    "    y_train = Y_train.iloc[ train_idx ]\n",
    "\n",
    "    x_valid = df_train.iloc[ valid_idx ]\n",
    "    y_valid = Y_train.iloc[ valid_idx ]        \n",
    "    k += 1 \n",
    "    \n",
    "    rfc = RandomForestClassifier(random_state= 45, \n",
    "                                 n_jobs= 180, max_depth=8)\n",
    "    model = rfc.fit(x_train, y_train)\n",
    "    model.predict(x_valid)\n",
    "    pred = model.predict(x_valid)\n",
    "    result1 = f1_score(y_valid, pred, average='weighted')\n",
    "    cv_f1_score[k] = result1\n",
    "    result2 = accuracy_score(y_valid, pred)\n",
    "    cv_accuracy[k] = result2\n",
    "print('튜닝 적용 score')\n",
    "print(f'f1_score:{round((cv_f1_score[1] + cv_f1_score[2] + cv_f1_score[3] + cv_f1_score[4] + cv_f1_score[5])/5,4)}')\n",
    "print(f'accuracy_score:{round((cv_accuracy[1] + cv_accuracy[2] + cv_accuracy[3] + cv_accuracy[4] + cv_accuracy[5])/5,4)}')"
   ]
  },
  {
   "cell_type": "code",
   "execution_count": 179,
   "id": "8f8a9131",
   "metadata": {},
   "outputs": [
    {
     "data": {
      "text/plain": [
       "<function sklearn.metrics._classification.f1_score(y_true, y_pred, *, labels=None, pos_label=1, average='binary', sample_weight=None, zero_division='warn')>"
      ]
     },
     "execution_count": 179,
     "metadata": {},
     "output_type": "execute_result"
    }
   ],
   "source": [
    "f1_score"
   ]
  },
  {
   "cell_type": "code",
   "execution_count": 216,
   "id": "525d9b5f",
   "metadata": {},
   "outputs": [
    {
     "data": {
      "image/png": "[encoded data removed]",
      "text/plain": [
       "<Figure size 288x288 with 1 Axes>"
      ]
     },
     "metadata": {
      "needs_background": "light"
     },
     "output_type": "display_data"
    }
   ],
   "source": [
    "names = np.array(['RFR', 'RFR tuned'])\n",
    "values= np.array([result, result1])\n",
    "\n",
    "plt.figure(figsize=(4,4))\n",
    "plt.title(\"f1_score: Before and After Tuning\", fontsize=18)\n",
    "plt.ylim(0.95, 1.009)\n",
    "bar1 = sns.barplot(x = names, y = values, palette='Set1')\n",
    "\n",
    "for p in bar1.patches:\n",
    "    _x = p.get_x() + p.get_width() / 2\n",
    "    _y = p.get_y() + p.get_height() + p.get_height()*0.0001\n",
    "    value = '{:.3f}'.format(p.get_height())\n",
    "    plt.text(_x, _y, value, ha=\"center\", fontsize=15) "
   ]
  },
  {
   "cell_type": "markdown",
   "id": "9ee6b652",
   "metadata": {},
   "source": [
    "#### 3-3-3 최종 모델의 변수 중요도"
   ]
  },
  {
   "cell_type": "code",
   "execution_count": 221,
   "id": "112ec453",
   "metadata": {},
   "outputs": [
    {
     "data": {
      "text/plain": [
       "<AxesSubplot:xlabel='변수중요도', ylabel='변수'>"
      ]
     },
     "execution_count": 221,
     "metadata": {},
     "output_type": "execute_result"
    },
    {
     "data": {
      "image/png": "[encoded data removed]",
      "text/plain": [
       "<Figure size 720x360 with 1 Axes>"
      ]
     },
     "metadata": {
      "needs_background": "light"
     },
     "output_type": "display_data"
    }
   ],
   "source": [
    "feature_importances = pd.DataFrame(model.feature_importances_, index=df_train.columns, columns=['변수중요도']).sort_values('변수중요도', ascending=False).reset_index().rename(columns={'index':'변수'})\n",
    "plt.figure(figsize=(10,5))\n",
    "sns.barplot(data=feature_importances, x='변수중요도', y='변수', orient='h', palette='Set3')"
   ]
  },
  {
   "cell_type": "markdown",
   "id": "04773f52",
   "metadata": {},
   "source": []
  },
  {
   "cell_type": "markdown",
   "id": "9d050027",
   "metadata": {},
   "source": [
    "#### 영업 데이터 분석 결론 \n",
    "\n",
    "* 영업사원의 followup이 2회일 때 가장 계약률이 낮고, 3회에서 6회까지 followup이 많아질 수록 계약률이 상승했다.      \n",
    "-> 고객이 2번째 followup 때 계약을 하지 않으면 빠르게 다른 상품을 추천하거나 혹은 기존 상품의 장점을 한번 더 안내해드리도록 해야할 필요성이 있다.\n",
    "\n",
    "    \n",
    "* 영업사원에게 어떤 상품을 추천받는가가 계약 여부에 영향을 미칠 수 있으며,    \n",
    "원하는 상품 등급보다 높은 등급의 상품을 추천받았을 때에 계약률이 감소할 수 있다는 가정을 세울 수 있다.    \n",
    "-> 고객 데이터 기반 수요 예측 모델을 기반으로 상품 추천을 해야한다.     \n",
    "-> RandomForest로 예측 모델 생성 완료  "
   ]
  },
  {
   "cell_type": "code",
   "execution_count": null,
   "id": "8db6decc",
   "metadata": {},
   "outputs": [],
   "source": []
  }
 ],
 "metadata": {
  "kernelspec": {
   "display_name": "Python 3 (ipykernel)",
   "language": "python",
   "name": "python3"
  },
  "language_info": {
   "codemirror_mode": {
    "name": "ipython",
    "version": 3
   },
   "file_extension": ".py",
   "mimetype": "text/x-python",
   "name": "python",
   "nbconvert_exporter": "python",
   "pygments_lexer": "ipython3",
   "version": "3.9.12"
  }
 },
 "nbformat": 4,
 "nbformat_minor": 5
}
